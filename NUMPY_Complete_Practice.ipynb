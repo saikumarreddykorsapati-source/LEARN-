{
  "nbformat": 4,
  "nbformat_minor": 0,
  "metadata": {
    "colab": {
      "name": "NUMPY Complete Practice",
      "provenance": [],
      "collapsed_sections": [],
      "authorship_tag": "ABX9TyPDCc/cO+VV5cngn8VLfjGu",
      "include_colab_link": true
    },
    "kernelspec": {
      "name": "python3",
      "display_name": "Python 3"
    },
    "language_info": {
      "name": "python"
    }
  },
  "cells": [
    {
      "cell_type": "markdown",
      "metadata": {
        "id": "view-in-github",
        "colab_type": "text"
      },
      "source": [
        "<a href=\"https://colab.research.google.com/github/saikumarreddykorsapati-source/LEARN-/blob/main/NUMPY_Complete_Practice.ipynb\" target=\"_parent\"><img src=\"https://colab.research.google.com/assets/colab-badge.svg\" alt=\"Open In Colab\"/></a>"
      ]
    },
    {
      "cell_type": "code",
      "execution_count": 1,
      "metadata": {
        "id": "4AyqX7H1j49R"
      },
      "outputs": [],
      "source": [
        "import numpy as np  # importing numpy library as alias np"
      ]
    },
    {
      "cell_type": "code",
      "source": [
        "arr = np.array([1,2,3,'sai',2+4j]) # generating a one dimensional array"
      ],
      "metadata": {
        "id": "qbGXvsV6kGbf"
      },
      "execution_count": 28,
      "outputs": []
    },
    {
      "cell_type": "code",
      "source": [
        "arr"
      ],
      "metadata": {
        "colab": {
          "base_uri": "https://localhost:8080/"
        },
        "id": "STnubQFMnnU9",
        "outputId": "3503585e-b247-401d-f3ac-3135189ab68c"
      },
      "execution_count": 29,
      "outputs": [
        {
          "output_type": "execute_result",
          "data": {
            "text/plain": [
              "array(['1', '2', '3', 'sai', '(2+4j)'], dtype='<U21')"
            ]
          },
          "metadata": {},
          "execution_count": 29
        }
      ]
    },
    {
      "cell_type": "code",
      "source": [
        "arr.ndim # used to check dimenstionality of the array ie., whether 1D or 2D or 3D..."
      ],
      "metadata": {
        "colab": {
          "base_uri": "https://localhost:8080/"
        },
        "id": "WYXTDMhpu1LB",
        "outputId": "602bfc38-a436-4100-a7b5-3e3122907d5a"
      },
      "execution_count": 61,
      "outputs": [
        {
          "output_type": "execute_result",
          "data": {
            "text/plain": [
              "1"
            ]
          },
          "metadata": {},
          "execution_count": 61
        }
      ]
    },
    {
      "cell_type": "code",
      "source": [
        "type(arr) # provides data type "
      ],
      "metadata": {
        "colab": {
          "base_uri": "https://localhost:8080/"
        },
        "id": "i-9FdBv1kLRs",
        "outputId": "2bb9e73e-fbe7-4d35-9f55-24b14249e17d"
      },
      "execution_count": 4,
      "outputs": [
        {
          "output_type": "execute_result",
          "data": {
            "text/plain": [
              "numpy.ndarray"
            ]
          },
          "metadata": {},
          "execution_count": 4
        }
      ]
    },
    {
      "cell_type": "code",
      "source": [
        "np.array([2,3,4,6.2]) \n",
        "# if we specify one element as high data type and remaning as low data type automatically remaning elements will be type casted or \n",
        "# upcasted into higher data type, ie., here all the int type are type casted into float"
      ],
      "metadata": {
        "colab": {
          "base_uri": "https://localhost:8080/"
        },
        "id": "5axc6dmNpOrO",
        "outputId": "552c1378-fdfd-45f9-8613-594950df6bbd"
      },
      "execution_count": 30,
      "outputs": [
        {
          "output_type": "execute_result",
          "data": {
            "text/plain": [
              "array([2. , 3. , 4. , 6.2])"
            ]
          },
          "metadata": {},
          "execution_count": 30
        }
      ]
    },
    {
      "cell_type": "code",
      "source": [
        "np.array([[3,4],[2,3],[6,5]]) # generate 2D array"
      ],
      "metadata": {
        "colab": {
          "base_uri": "https://localhost:8080/"
        },
        "id": "faTWB4Fppayk",
        "outputId": "e30beabe-7cee-4ed7-b5d3-44ab1ca09eac"
      },
      "execution_count": 63,
      "outputs": [
        {
          "output_type": "execute_result",
          "data": {
            "text/plain": [
              "array([[3, 4],\n",
              "       [2, 3],\n",
              "       [6, 5]])"
            ]
          },
          "metadata": {},
          "execution_count": 63
        }
      ]
    },
    {
      "cell_type": "code",
      "source": [
        "np.array([[3,4],[2,3],[6,5,7]]) # here we specified one list with more elements ie.,3 so this array stores all the elements as list"
      ],
      "metadata": {
        "colab": {
          "base_uri": "https://localhost:8080/"
        },
        "id": "oiu347EnpnJH",
        "outputId": "e2ea1d03-7408-43c6-9a38-d848b393a425"
      },
      "execution_count": 33,
      "outputs": [
        {
          "output_type": "stream",
          "name": "stderr",
          "text": [
            "/usr/local/lib/python3.7/dist-packages/ipykernel_launcher.py:1: VisibleDeprecationWarning: Creating an ndarray from ragged nested sequences (which is a list-or-tuple of lists-or-tuples-or ndarrays with different lengths or shapes) is deprecated. If you meant to do this, you must specify 'dtype=object' when creating the ndarray\n",
            "  \"\"\"Entry point for launching an IPython kernel.\n"
          ]
        },
        {
          "output_type": "execute_result",
          "data": {
            "text/plain": [
              "array([list([3, 4]), list([2, 3]), list([6, 5, 7])], dtype=object)"
            ]
          },
          "metadata": {},
          "execution_count": 33
        }
      ]
    },
    {
      "cell_type": "code",
      "source": [
        "np.array([1,2,3,4,5,6,7,8,8,9], ndmin = 3) \n",
        "# by using ndmin we are specifiying the dimension (1D/2D/3D/...) array to be generated with specified values"
      ],
      "metadata": {
        "colab": {
          "base_uri": "https://localhost:8080/"
        },
        "id": "q4Emf8IXptlZ",
        "outputId": "f32b1696-f2f6-44d2-8440-1ecf48134e4c"
      },
      "execution_count": 38,
      "outputs": [
        {
          "output_type": "execute_result",
          "data": {
            "text/plain": [
              "array([[[1, 2, 3, 4, 5, 6, 7, 8, 8, 9]]])"
            ]
          },
          "metadata": {},
          "execution_count": 38
        }
      ]
    },
    {
      "cell_type": "code",
      "source": [
        "np.array([1,2,3,4,5,6,7,8,8,9],ndmin = 3).ndim # used to identify dimenstionality of the array ie., whether 1D or 2D or 3D..."
      ],
      "metadata": {
        "colab": {
          "base_uri": "https://localhost:8080/"
        },
        "id": "SfRNZ1tGwopK",
        "outputId": "f9271bf9-cd64-44f5-e13c-fe2e1bd51065"
      },
      "execution_count": 64,
      "outputs": [
        {
          "output_type": "execute_result",
          "data": {
            "text/plain": [
              "3"
            ]
          },
          "metadata": {},
          "execution_count": 64
        }
      ]
    },
    {
      "cell_type": "markdown",
      "source": [
        "### **Note :** ndmin and ndim are separate\n",
        "ndmin is used while generating array to specify number of dimensions whereas \n",
        "ndim is used to identify number of dimensions od already generated array"
      ],
      "metadata": {
        "id": "fsCTkFEnwd1e"
      }
    },
    {
      "cell_type": "code",
      "source": [
        "np.array([1,2,3], dtype = complex) # using dtype we can specify the datatype of elements in the array"
      ],
      "metadata": {
        "colab": {
          "base_uri": "https://localhost:8080/"
        },
        "id": "CpGwGV-sqIJm",
        "outputId": "b1196743-77e8-4968-ce87-f1e297300198"
      },
      "execution_count": 40,
      "outputs": [
        {
          "output_type": "execute_result",
          "data": {
            "text/plain": [
              "array([1.+0.j, 2.+0.j, 3.+0.j])"
            ]
          },
          "metadata": {},
          "execution_count": 40
        }
      ]
    },
    {
      "cell_type": "code",
      "source": [
        "np.array([1,2,3], dtype = float)"
      ],
      "metadata": {
        "colab": {
          "base_uri": "https://localhost:8080/"
        },
        "id": "ouH9X2Pfq0gy",
        "outputId": "c193e1a2-5362-40cc-a068-1e392a814fb6"
      },
      "execution_count": 41,
      "outputs": [
        {
          "output_type": "execute_result",
          "data": {
            "text/plain": [
              "array([1., 2., 3.])"
            ]
          },
          "metadata": {},
          "execution_count": 41
        }
      ]
    },
    {
      "cell_type": "code",
      "source": [
        "arr = np.array([(1,2),(4,5)], dtype= [(\"a\",'<i4'),(\"b\",'<i8')]) # by deafult i4 is considered in jupiter notebook in google collab i8 \n",
        "# i2 = 16bit, i4 = 32bit, i8 = 64bit, this convention is mostly used while creating libraries\n",
        "# i2 = 2*8bits = 16bits ; i4 = 4*8bits = 32bits ; i8 = 8*8bits = 64bits"
      ],
      "metadata": {
        "id": "XPNqpRgGqvWo"
      },
      "execution_count": 65,
      "outputs": []
    },
    {
      "cell_type": "code",
      "source": [
        "type(arr[0][0])"
      ],
      "metadata": {
        "colab": {
          "base_uri": "https://localhost:8080/"
        },
        "id": "sT1205cpt4s0",
        "outputId": "c68bc141-9736-4f32-8761-84c22c021149"
      },
      "execution_count": 55,
      "outputs": [
        {
          "output_type": "execute_result",
          "data": {
            "text/plain": [
              "numpy.int32"
            ]
          },
          "metadata": {},
          "execution_count": 55
        }
      ]
    },
    {
      "cell_type": "code",
      "source": [
        "type(arr[0][1])"
      ],
      "metadata": {
        "colab": {
          "base_uri": "https://localhost:8080/"
        },
        "id": "O_3AgjEquGPX",
        "outputId": "8326a94e-c44a-4681-d70d-9bebb73f58c7"
      },
      "execution_count": 56,
      "outputs": [
        {
          "output_type": "execute_result",
          "data": {
            "text/plain": [
              "numpy.int64"
            ]
          },
          "metadata": {},
          "execution_count": 56
        }
      ]
    },
    {
      "cell_type": "code",
      "source": [
        "arr  = np.array([[1,3],[3,4]])"
      ],
      "metadata": {
        "id": "IWmA2h0exvRe"
      },
      "execution_count": 69,
      "outputs": []
    },
    {
      "cell_type": "code",
      "source": [
        "type(arr[0][1]) # by deafult i4 is considered in jupiter notebook in google collab i8"
      ],
      "metadata": {
        "colab": {
          "base_uri": "https://localhost:8080/"
        },
        "id": "U8RQqrXqx9Xx",
        "outputId": "fc657676-f07b-451f-d30d-9b3c643fef24"
      },
      "execution_count": 72,
      "outputs": [
        {
          "output_type": "execute_result",
          "data": {
            "text/plain": [
              "numpy.int64"
            ]
          },
          "metadata": {},
          "execution_count": 72
        }
      ]
    },
    {
      "cell_type": "markdown",
      "source": [
        "# **What is a matrix in numpy?**\n",
        "matrix. Returns a matrix from an array-like object, or from a string of data. ... A matrix is a specialized 2-D array that retains its 2-D nature through operations. It has certain special operators, such as * (matrix multiplication) and ** (matrix power).\n",
        "### **Note :**\n",
        "Matrix is subset of numpy array\n",
        "\n",
        "np.mat(array) or np.matrix(array) is used to generate matrix"
      ],
      "metadata": {
        "id": "D7Y5SG8hy9mF"
      }
    },
    {
      "cell_type": "code",
      "source": [
        "np.mat(arr)"
      ],
      "metadata": {
        "colab": {
          "base_uri": "https://localhost:8080/"
        },
        "id": "I98ubzO6yT-S",
        "outputId": "4ccff05f-7eb1-41e1-b8d7-3da7efed9424"
      },
      "execution_count": 74,
      "outputs": [
        {
          "output_type": "execute_result",
          "data": {
            "text/plain": [
              "matrix([[1, 2],\n",
              "        [3, 4]])"
            ]
          },
          "metadata": {},
          "execution_count": 74
        }
      ]
    },
    {
      "cell_type": "code",
      "source": [
        "np.matrix(arr)"
      ],
      "metadata": {
        "colab": {
          "base_uri": "https://localhost:8080/"
        },
        "id": "Rnfis8bFzyNS",
        "outputId": "37af8521-8ebe-4eb3-c879-75b27b70d4dd"
      },
      "execution_count": 75,
      "outputs": [
        {
          "output_type": "execute_result",
          "data": {
            "text/plain": [
              "matrix([[1, 2],\n",
              "        [3, 4]])"
            ]
          },
          "metadata": {},
          "execution_count": 75
        }
      ]
    },
    {
      "cell_type": "code",
      "source": [
        "l =[1,2,3,4] # list "
      ],
      "metadata": {
        "id": "AVOpxrog0JEU"
      },
      "execution_count": 77,
      "outputs": []
    },
    {
      "cell_type": "markdown",
      "source": [
        "np.array() , np.asarray() , np.asanyarray() all are used to convert no array data into array type\n",
        "suppose if data is already in any of the array type then np.asanyarray() cannot convert it into array form whereas other two can do"
      ],
      "metadata": {
        "id": "hEZQjdwu15a6"
      }
    },
    {
      "cell_type": "code",
      "source": [
        "np.array(l)"
      ],
      "metadata": {
        "colab": {
          "base_uri": "https://localhost:8080/"
        },
        "id": "6KtS7Q890akb",
        "outputId": "f64b30d3-dfea-4b79-d5c8-ab6440482010"
      },
      "execution_count": 78,
      "outputs": [
        {
          "output_type": "execute_result",
          "data": {
            "text/plain": [
              "array([1, 2, 3, 4])"
            ]
          },
          "metadata": {},
          "execution_count": 78
        }
      ]
    },
    {
      "cell_type": "code",
      "source": [
        "np.asarray(l)"
      ],
      "metadata": {
        "colab": {
          "base_uri": "https://localhost:8080/"
        },
        "id": "JNd22-AE0brQ",
        "outputId": "7682f6d4-cc72-409a-ac33-b87bfe8135b0"
      },
      "execution_count": 79,
      "outputs": [
        {
          "output_type": "execute_result",
          "data": {
            "text/plain": [
              "array([1, 2, 3, 4])"
            ]
          },
          "metadata": {},
          "execution_count": 79
        }
      ]
    },
    {
      "cell_type": "code",
      "source": [
        "np.asanyarray(l)"
      ],
      "metadata": {
        "colab": {
          "base_uri": "https://localhost:8080/"
        },
        "id": "Gg0Z5PPP0c4w",
        "outputId": "ea730fbb-e5fd-44d7-fe1f-f9a7a832d977"
      },
      "execution_count": 80,
      "outputs": [
        {
          "output_type": "execute_result",
          "data": {
            "text/plain": [
              "array([1, 2, 3, 4])"
            ]
          },
          "metadata": {},
          "execution_count": 80
        }
      ]
    },
    {
      "cell_type": "code",
      "source": [
        "np.asanyarray(mat) # though matrix is a form of array, np.asanyarray() cannot convert it into array"
      ],
      "metadata": {
        "colab": {
          "base_uri": "https://localhost:8080/"
        },
        "id": "yA7hhHBj0d0Y",
        "outputId": "12dd7690-1deb-4d2e-d077-b1e3de0c657d"
      },
      "execution_count": 81,
      "outputs": [
        {
          "output_type": "execute_result",
          "data": {
            "text/plain": [
              "matrix([[1, 2],\n",
              "        [3, 4]])"
            ]
          },
          "metadata": {},
          "execution_count": 81
        }
      ]
    },
    {
      "cell_type": "code",
      "source": [
        "np.asarray(mat) # by using asarray we can convert any type of data into array type"
      ],
      "metadata": {
        "colab": {
          "base_uri": "https://localhost:8080/"
        },
        "id": "Tp-zke2u3yO1",
        "outputId": "71a8b24f-726b-4f30-9107-1ddc64953e8b"
      },
      "execution_count": 82,
      "outputs": [
        {
          "output_type": "execute_result",
          "data": {
            "text/plain": [
              "array([[1, 2],\n",
              "       [3, 4]])"
            ]
          },
          "metadata": {},
          "execution_count": 82
        }
      ]
    },
    {
      "cell_type": "code",
      "source": [
        "np.array(mat)"
      ],
      "metadata": {
        "colab": {
          "base_uri": "https://localhost:8080/"
        },
        "id": "rfyKbDZl0Quh",
        "outputId": "af6e409d-1e20-45b1-e1e7-7d3b2e7773f6"
      },
      "execution_count": 83,
      "outputs": [
        {
          "output_type": "execute_result",
          "data": {
            "text/plain": [
              "array([[1, 2],\n",
              "       [3, 4]])"
            ]
          },
          "metadata": {},
          "execution_count": 83
        }
      ]
    },
    {
      "cell_type": "code",
      "source": [
        "issubclass(np.matrix,np.ndarray) # here we can check matrix is a subclass of numpy array or not"
      ],
      "metadata": {
        "colab": {
          "base_uri": "https://localhost:8080/"
        },
        "id": "SQPgZXKY4rZi",
        "outputId": "f7c450af-8aa0-4792-a643-53d69c310759"
      },
      "execution_count": 89,
      "outputs": [
        {
          "output_type": "execute_result",
          "data": {
            "text/plain": [
              "True"
            ]
          },
          "metadata": {},
          "execution_count": 89
        }
      ]
    },
    {
      "cell_type": "code",
      "source": [
        "issubclass(np.ndarray,np.matrix) # here we can check numpy array is a subclass of matrix or not"
      ],
      "metadata": {
        "colab": {
          "base_uri": "https://localhost:8080/"
        },
        "id": "Sfu4T8Lc4U5v",
        "outputId": "ec87509b-1b91-4c53-9cd6-cd44bda7700c"
      },
      "execution_count": 87,
      "outputs": [
        {
          "output_type": "execute_result",
          "data": {
            "text/plain": [
              "False"
            ]
          },
          "metadata": {},
          "execution_count": 87
        }
      ]
    },
    {
      "cell_type": "code",
      "source": [
        ""
      ],
      "metadata": {
        "id": "u5GHwfJ68Llx"
      },
      "execution_count": null,
      "outputs": []
    },
    {
      "cell_type": "markdown",
      "source": [
        "## **Shallow Copy and Deep Copy**\n",
        "\n",
        "numpy array is mutable so we can make cahnges to existing array\n",
        "\n",
        "**ShallowCopy:**\n",
        "\n",
        "if we assign an Original array to a variable it just refer to that array location, in such a case if we do any change in that Original array the change will reflect in that a variable as well.\n",
        "\n",
        "**DeepCopy:**\n",
        "\n",
        "using np.copy() if we assign an Original array to a variable it creates an another  copy of that array in other location and then assigned to that variable, so if we perform any change on that Original array it will not reflect in that varible."
      ],
      "metadata": {
        "id": "q4iby8iP6DEe"
      }
    },
    {
      "cell_type": "code",
      "source": [
        "arr = np.array([[1,2,3],[4,5,6]])"
      ],
      "metadata": {
        "id": "XAxvW0o15-XY"
      },
      "execution_count": 90,
      "outputs": []
    },
    {
      "cell_type": "code",
      "source": [
        "arr # Original Array"
      ],
      "metadata": {
        "colab": {
          "base_uri": "https://localhost:8080/"
        },
        "id": "hTUo6dZD9JSk",
        "outputId": "3bb921a7-74d1-4770-e485-06ae21f3fbbe"
      },
      "execution_count": 91,
      "outputs": [
        {
          "output_type": "execute_result",
          "data": {
            "text/plain": [
              "array([[1, 2, 3],\n",
              "       [4, 5, 6]])"
            ]
          },
          "metadata": {},
          "execution_count": 91
        }
      ]
    },
    {
      "cell_type": "code",
      "source": [
        "a = arr   # Shallow Copy\n",
        "a"
      ],
      "metadata": {
        "colab": {
          "base_uri": "https://localhost:8080/"
        },
        "id": "aPWdwttJ9KXr",
        "outputId": "2f3c7508-cda4-49e6-9b31-49de483f1060"
      },
      "execution_count": 97,
      "outputs": [
        {
          "output_type": "execute_result",
          "data": {
            "text/plain": [
              "array([[1, 2, 3],\n",
              "       [4, 5, 6]])"
            ]
          },
          "metadata": {},
          "execution_count": 97
        }
      ]
    },
    {
      "cell_type": "code",
      "source": [
        "b = np.copy(arr) # Deep Copy\n",
        "b"
      ],
      "metadata": {
        "colab": {
          "base_uri": "https://localhost:8080/"
        },
        "id": "-uAAwkPr9Qr0",
        "outputId": "6424853a-7806-4d6d-9ace-8a27e5f9ef5f"
      },
      "execution_count": 98,
      "outputs": [
        {
          "output_type": "execute_result",
          "data": {
            "text/plain": [
              "array([[1, 2, 3],\n",
              "       [4, 5, 6]])"
            ]
          },
          "metadata": {},
          "execution_count": 98
        }
      ]
    },
    {
      "cell_type": "code",
      "source": [
        "arr[0][1] = 7"
      ],
      "metadata": {
        "id": "DrTMRVo59VQu"
      },
      "execution_count": 100,
      "outputs": []
    },
    {
      "cell_type": "code",
      "source": [
        "arr # Original Array"
      ],
      "metadata": {
        "colab": {
          "base_uri": "https://localhost:8080/"
        },
        "id": "zJXDrD8R9yJO",
        "outputId": "0716595c-b416-4b39-9186-de9691b46011"
      },
      "execution_count": 102,
      "outputs": [
        {
          "output_type": "execute_result",
          "data": {
            "text/plain": [
              "array([[1, 7, 3],\n",
              "       [4, 5, 6]])"
            ]
          },
          "metadata": {},
          "execution_count": 102
        }
      ]
    },
    {
      "cell_type": "code",
      "source": [
        "a # Shallow Copy"
      ],
      "metadata": {
        "colab": {
          "base_uri": "https://localhost:8080/"
        },
        "id": "rseC1TbR9vnK",
        "outputId": "7d620e99-58e0-4ad6-a05e-b021e7d1dec0"
      },
      "execution_count": 101,
      "outputs": [
        {
          "output_type": "execute_result",
          "data": {
            "text/plain": [
              "array([[1, 7, 3],\n",
              "       [4, 5, 6]])"
            ]
          },
          "metadata": {},
          "execution_count": 101
        }
      ]
    },
    {
      "cell_type": "code",
      "source": [
        "b # Deep Copy"
      ],
      "metadata": {
        "colab": {
          "base_uri": "https://localhost:8080/"
        },
        "id": "tMdx9LWf9xHd",
        "outputId": "60a012f8-e4cc-4c88-fba3-2345b081443d"
      },
      "execution_count": 103,
      "outputs": [
        {
          "output_type": "execute_result",
          "data": {
            "text/plain": [
              "array([[1, 2, 3],\n",
              "       [4, 5, 6]])"
            ]
          },
          "metadata": {},
          "execution_count": 103
        }
      ]
    },
    {
      "cell_type": "code",
      "source": [
        "np.array([[1,2,3,4],[5,6,7,8]]) # generating 2 dimensional array"
      ],
      "metadata": {
        "colab": {
          "base_uri": "https://localhost:8080/"
        },
        "id": "t-VhbAo_ub0G",
        "outputId": "20732282-050e-4a1a-d65b-bc6477b28e52"
      },
      "execution_count": 59,
      "outputs": [
        {
          "output_type": "execute_result",
          "data": {
            "text/plain": [
              "array([[1, 2, 3, 4],\n",
              "       [5, 6, 7, 8]])"
            ]
          },
          "metadata": {},
          "execution_count": 59
        }
      ]
    },
    {
      "cell_type": "code",
      "source": [
        "arr.ndim"
      ],
      "metadata": {
        "colab": {
          "base_uri": "https://localhost:8080/"
        },
        "id": "O3wjkX3Rum-o",
        "outputId": "da6994b4-ee17-494d-cb80-da1368673f1f"
      },
      "execution_count": 60,
      "outputs": [
        {
          "output_type": "execute_result",
          "data": {
            "text/plain": [
              "1"
            ]
          },
          "metadata": {},
          "execution_count": 60
        }
      ]
    },
    {
      "cell_type": "code",
      "source": [
        "np.random.rand(5)"
      ],
      "metadata": {
        "colab": {
          "base_uri": "https://localhost:8080/"
        },
        "id": "OwLKs0A4kRzX",
        "outputId": "c7510b44-ebda-404f-e28e-601fe25b27fe"
      },
      "execution_count": 5,
      "outputs": [
        {
          "output_type": "execute_result",
          "data": {
            "text/plain": [
              "array([0.10865051, 0.66228124, 0.54099558, 0.10903099, 0.48132367])"
            ]
          },
          "metadata": {},
          "execution_count": 5
        }
      ]
    },
    {
      "cell_type": "code",
      "source": [
        "np.random.randn(5)"
      ],
      "metadata": {
        "colab": {
          "base_uri": "https://localhost:8080/"
        },
        "id": "j5Rvg1tXkYQc",
        "outputId": "531efcc0-375a-44e9-a390-b6c40232f508"
      },
      "execution_count": 6,
      "outputs": [
        {
          "output_type": "execute_result",
          "data": {
            "text/plain": [
              "array([-0.38818864, -0.84794385, -1.68105662,  1.69652888, -0.2983415 ])"
            ]
          },
          "metadata": {},
          "execution_count": 6
        }
      ]
    },
    {
      "cell_type": "code",
      "source": [
        "np.random.randint(5,10, (4,4))"
      ],
      "metadata": {
        "colab": {
          "base_uri": "https://localhost:8080/"
        },
        "id": "NIz3Hrk2kecS",
        "outputId": "10c98e90-a40f-45b2-f024-c73a9acd3b3e"
      },
      "execution_count": 14,
      "outputs": [
        {
          "output_type": "execute_result",
          "data": {
            "text/plain": [
              "array([[5, 6, 9, 7],\n",
              "       [9, 8, 8, 5],\n",
              "       [9, 7, 6, 7],\n",
              "       [5, 6, 5, 7]])"
            ]
          },
          "metadata": {},
          "execution_count": 14
        }
      ]
    },
    {
      "cell_type": "code",
      "source": [
        "np.zeros([5,2])"
      ],
      "metadata": {
        "colab": {
          "base_uri": "https://localhost:8080/"
        },
        "id": "uzDkuEGZksh7",
        "outputId": "c2d72c1e-9960-417b-d453-619e1661f555"
      },
      "execution_count": 23,
      "outputs": [
        {
          "output_type": "execute_result",
          "data": {
            "text/plain": [
              "array([[0., 0.],\n",
              "       [0., 0.],\n",
              "       [0., 0.],\n",
              "       [0., 0.],\n",
              "       [0., 0.]])"
            ]
          },
          "metadata": {},
          "execution_count": 23
        }
      ]
    },
    {
      "cell_type": "code",
      "source": [
        "np.eye(5,5)"
      ],
      "metadata": {
        "colab": {
          "base_uri": "https://localhost:8080/"
        },
        "id": "V9d6-AaemjAn",
        "outputId": "c8b02f55-4e6a-4f91-9e61-d29ab070e12a"
      },
      "execution_count": 27,
      "outputs": [
        {
          "output_type": "execute_result",
          "data": {
            "text/plain": [
              "array([[1., 0., 0., 0., 0.],\n",
              "       [0., 1., 0., 0., 0.],\n",
              "       [0., 0., 1., 0., 0.],\n",
              "       [0., 0., 0., 1., 0.],\n",
              "       [0., 0., 0., 0., 1.]])"
            ]
          },
          "metadata": {},
          "execution_count": 27
        }
      ]
    }
  ]
}