{
  "nbformat": 4,
  "nbformat_minor": 0,
  "metadata": {
    "colab": {
      "name": "NUMPY Complete Practice",
      "provenance": [],
      "collapsed_sections": [],
      "authorship_tag": "ABX9TyNWQF+MXjnTHSoJGrICMN6v",
      "include_colab_link": true
    },
    "kernelspec": {
      "name": "python3",
      "display_name": "Python 3"
    },
    "language_info": {
      "name": "python"
    }
  },
  "cells": [
    {
      "cell_type": "markdown",
      "metadata": {
        "id": "view-in-github",
        "colab_type": "text"
      },
      "source": [
        "<a href=\"https://colab.research.google.com/github/saikumarreddykorsapati-source/LEARN-/blob/main/NUMPY_Complete_Practice.ipynb\" target=\"_parent\"><img src=\"https://colab.research.google.com/assets/colab-badge.svg\" alt=\"Open In Colab\"/></a>"
      ]
    },
    {
      "cell_type": "markdown",
      "source": [
        "Numpy array is faster than list in python"
      ],
      "metadata": {
        "id": "zO7cQwwkAbXA"
      }
    },
    {
      "cell_type": "code",
      "execution_count": 6,
      "metadata": {
        "id": "4AyqX7H1j49R"
      },
      "outputs": [],
      "source": [
        "import numpy as np  # importing numpy library as alias np"
      ]
    },
    {
      "cell_type": "code",
      "source": [
        "arr = np.array([1,2,3,'sai',2+4j]) # generating a one dimensional array"
      ],
      "metadata": {
        "id": "qbGXvsV6kGbf"
      },
      "execution_count": 28,
      "outputs": []
    },
    {
      "cell_type": "code",
      "source": [
        "arr"
      ],
      "metadata": {
        "colab": {
          "base_uri": "https://localhost:8080/"
        },
        "id": "STnubQFMnnU9",
        "outputId": "3503585e-b247-401d-f3ac-3135189ab68c"
      },
      "execution_count": 29,
      "outputs": [
        {
          "output_type": "execute_result",
          "data": {
            "text/plain": [
              "array(['1', '2', '3', 'sai', '(2+4j)'], dtype='<U21')"
            ]
          },
          "metadata": {},
          "execution_count": 29
        }
      ]
    },
    {
      "cell_type": "code",
      "source": [
        "arr.ndim # used to check dimenstionality of the array ie., whether 1D or 2D or 3D..."
      ],
      "metadata": {
        "colab": {
          "base_uri": "https://localhost:8080/"
        },
        "id": "WYXTDMhpu1LB",
        "outputId": "602bfc38-a436-4100-a7b5-3e3122907d5a"
      },
      "execution_count": 61,
      "outputs": [
        {
          "output_type": "execute_result",
          "data": {
            "text/plain": [
              "1"
            ]
          },
          "metadata": {},
          "execution_count": 61
        }
      ]
    },
    {
      "cell_type": "code",
      "source": [
        "type(arr) # provides data type "
      ],
      "metadata": {
        "colab": {
          "base_uri": "https://localhost:8080/"
        },
        "id": "i-9FdBv1kLRs",
        "outputId": "2bb9e73e-fbe7-4d35-9f55-24b14249e17d"
      },
      "execution_count": 4,
      "outputs": [
        {
          "output_type": "execute_result",
          "data": {
            "text/plain": [
              "numpy.ndarray"
            ]
          },
          "metadata": {},
          "execution_count": 4
        }
      ]
    },
    {
      "cell_type": "code",
      "source": [
        "np.array([2,3,4,6.2]) \n",
        "# if we specify one element as high data type and remaning as low data type automatically remaning elements will be type casted or \n",
        "# upcasted into higher data type, ie., here all the int type are type casted into float"
      ],
      "metadata": {
        "colab": {
          "base_uri": "https://localhost:8080/"
        },
        "id": "5axc6dmNpOrO",
        "outputId": "552c1378-fdfd-45f9-8613-594950df6bbd"
      },
      "execution_count": 30,
      "outputs": [
        {
          "output_type": "execute_result",
          "data": {
            "text/plain": [
              "array([2. , 3. , 4. , 6.2])"
            ]
          },
          "metadata": {},
          "execution_count": 30
        }
      ]
    },
    {
      "cell_type": "code",
      "source": [
        "np.array([[3,4],[2,3],[6,5]]) # generate 2D array"
      ],
      "metadata": {
        "colab": {
          "base_uri": "https://localhost:8080/"
        },
        "id": "faTWB4Fppayk",
        "outputId": "e30beabe-7cee-4ed7-b5d3-44ab1ca09eac"
      },
      "execution_count": 63,
      "outputs": [
        {
          "output_type": "execute_result",
          "data": {
            "text/plain": [
              "array([[3, 4],\n",
              "       [2, 3],\n",
              "       [6, 5]])"
            ]
          },
          "metadata": {},
          "execution_count": 63
        }
      ]
    },
    {
      "cell_type": "code",
      "source": [
        "np.array([[3,4],[2,3],[6,5,7]]) # here we specified one list with more elements ie.,3 so this array stores all the elements as list"
      ],
      "metadata": {
        "colab": {
          "base_uri": "https://localhost:8080/"
        },
        "id": "oiu347EnpnJH",
        "outputId": "e2ea1d03-7408-43c6-9a38-d848b393a425"
      },
      "execution_count": 33,
      "outputs": [
        {
          "output_type": "stream",
          "name": "stderr",
          "text": [
            "/usr/local/lib/python3.7/dist-packages/ipykernel_launcher.py:1: VisibleDeprecationWarning: Creating an ndarray from ragged nested sequences (which is a list-or-tuple of lists-or-tuples-or ndarrays with different lengths or shapes) is deprecated. If you meant to do this, you must specify 'dtype=object' when creating the ndarray\n",
            "  \"\"\"Entry point for launching an IPython kernel.\n"
          ]
        },
        {
          "output_type": "execute_result",
          "data": {
            "text/plain": [
              "array([list([3, 4]), list([2, 3]), list([6, 5, 7])], dtype=object)"
            ]
          },
          "metadata": {},
          "execution_count": 33
        }
      ]
    },
    {
      "cell_type": "code",
      "source": [
        "np.array([1,2,3,4,5,6,7,8,8,9], ndmin = 3) \n",
        "# by using ndmin we are specifiying the dimension (1D/2D/3D/...) array to be generated with specified values"
      ],
      "metadata": {
        "colab": {
          "base_uri": "https://localhost:8080/"
        },
        "id": "q4Emf8IXptlZ",
        "outputId": "f32b1696-f2f6-44d2-8440-1ecf48134e4c"
      },
      "execution_count": 38,
      "outputs": [
        {
          "output_type": "execute_result",
          "data": {
            "text/plain": [
              "array([[[1, 2, 3, 4, 5, 6, 7, 8, 8, 9]]])"
            ]
          },
          "metadata": {},
          "execution_count": 38
        }
      ]
    },
    {
      "cell_type": "code",
      "source": [
        "np.array([1,2,3,4,5,6,7,8,8,9],ndmin = 3).ndim # used to identify dimenstionality of the array ie., whether 1D or 2D or 3D..."
      ],
      "metadata": {
        "colab": {
          "base_uri": "https://localhost:8080/"
        },
        "id": "SfRNZ1tGwopK",
        "outputId": "f9271bf9-cd64-44f5-e13c-fe2e1bd51065"
      },
      "execution_count": 64,
      "outputs": [
        {
          "output_type": "execute_result",
          "data": {
            "text/plain": [
              "3"
            ]
          },
          "metadata": {},
          "execution_count": 64
        }
      ]
    },
    {
      "cell_type": "markdown",
      "source": [
        "### **Note :** ndmin and ndim are separate\n",
        "ndmin is used while generating array to specify number of dimensions whereas \n",
        "ndim is used to identify number of dimensions od already generated array"
      ],
      "metadata": {
        "id": "fsCTkFEnwd1e"
      }
    },
    {
      "cell_type": "code",
      "source": [
        "np.array([1,2,3], dtype = complex) # using dtype we can specify the datatype of elements in the array"
      ],
      "metadata": {
        "colab": {
          "base_uri": "https://localhost:8080/"
        },
        "id": "CpGwGV-sqIJm",
        "outputId": "b1196743-77e8-4968-ce87-f1e297300198"
      },
      "execution_count": 40,
      "outputs": [
        {
          "output_type": "execute_result",
          "data": {
            "text/plain": [
              "array([1.+0.j, 2.+0.j, 3.+0.j])"
            ]
          },
          "metadata": {},
          "execution_count": 40
        }
      ]
    },
    {
      "cell_type": "code",
      "source": [
        "np.array([1,2,3], dtype = float)"
      ],
      "metadata": {
        "colab": {
          "base_uri": "https://localhost:8080/"
        },
        "id": "ouH9X2Pfq0gy",
        "outputId": "c193e1a2-5362-40cc-a068-1e392a814fb6"
      },
      "execution_count": 41,
      "outputs": [
        {
          "output_type": "execute_result",
          "data": {
            "text/plain": [
              "array([1., 2., 3.])"
            ]
          },
          "metadata": {},
          "execution_count": 41
        }
      ]
    },
    {
      "cell_type": "code",
      "source": [
        "arr = np.array([(1,2),(4,5)], dtype= [(\"a\",'<i4'),(\"b\",'<i8')]) # by deafult i4 is considered in jupiter notebook in google collab i8 \n",
        "# i2 = 16bit, i4 = 32bit, i8 = 64bit, this convention is mostly used while creating libraries\n",
        "# i2 = 2*8bits = 16bits ; i4 = 4*8bits = 32bits ; i8 = 8*8bits = 64bits"
      ],
      "metadata": {
        "id": "XPNqpRgGqvWo"
      },
      "execution_count": 65,
      "outputs": []
    },
    {
      "cell_type": "code",
      "source": [
        "type(arr[0][0])"
      ],
      "metadata": {
        "colab": {
          "base_uri": "https://localhost:8080/"
        },
        "id": "sT1205cpt4s0",
        "outputId": "c68bc141-9736-4f32-8761-84c22c021149"
      },
      "execution_count": 55,
      "outputs": [
        {
          "output_type": "execute_result",
          "data": {
            "text/plain": [
              "numpy.int32"
            ]
          },
          "metadata": {},
          "execution_count": 55
        }
      ]
    },
    {
      "cell_type": "code",
      "source": [
        "type(arr[0][1])"
      ],
      "metadata": {
        "colab": {
          "base_uri": "https://localhost:8080/"
        },
        "id": "O_3AgjEquGPX",
        "outputId": "8326a94e-c44a-4681-d70d-9bebb73f58c7"
      },
      "execution_count": 56,
      "outputs": [
        {
          "output_type": "execute_result",
          "data": {
            "text/plain": [
              "numpy.int64"
            ]
          },
          "metadata": {},
          "execution_count": 56
        }
      ]
    },
    {
      "cell_type": "code",
      "source": [
        "arr  = np.array([[1,3],[3,4]])"
      ],
      "metadata": {
        "id": "IWmA2h0exvRe"
      },
      "execution_count": 69,
      "outputs": []
    },
    {
      "cell_type": "code",
      "source": [
        "type(arr[0][1]) # by deafult i4 is considered in jupiter notebook in google collab i8"
      ],
      "metadata": {
        "colab": {
          "base_uri": "https://localhost:8080/"
        },
        "id": "U8RQqrXqx9Xx",
        "outputId": "fc657676-f07b-451f-d30d-9b3c643fef24"
      },
      "execution_count": 72,
      "outputs": [
        {
          "output_type": "execute_result",
          "data": {
            "text/plain": [
              "numpy.int64"
            ]
          },
          "metadata": {},
          "execution_count": 72
        }
      ]
    },
    {
      "cell_type": "markdown",
      "source": [
        "# **What is a matrix in numpy?**\n",
        "matrix. Returns a matrix from an array-like object, or from a string of data. ... A matrix is a specialized 2-D array that retains its 2-D nature through operations. It has certain special operators, such as * (matrix multiplication) and ** (matrix power).\n",
        "### **Note :**\n",
        "Matrix is subset of numpy array\n",
        "\n",
        "np.mat(array) or np.matrix(array) is used to generate matrix"
      ],
      "metadata": {
        "id": "D7Y5SG8hy9mF"
      }
    },
    {
      "cell_type": "code",
      "source": [
        "np.mat(arr)"
      ],
      "metadata": {
        "colab": {
          "base_uri": "https://localhost:8080/"
        },
        "id": "I98ubzO6yT-S",
        "outputId": "4ccff05f-7eb1-41e1-b8d7-3da7efed9424"
      },
      "execution_count": 74,
      "outputs": [
        {
          "output_type": "execute_result",
          "data": {
            "text/plain": [
              "matrix([[1, 2],\n",
              "        [3, 4]])"
            ]
          },
          "metadata": {},
          "execution_count": 74
        }
      ]
    },
    {
      "cell_type": "code",
      "source": [
        "np.matrix(arr)"
      ],
      "metadata": {
        "colab": {
          "base_uri": "https://localhost:8080/"
        },
        "id": "Rnfis8bFzyNS",
        "outputId": "37af8521-8ebe-4eb3-c879-75b27b70d4dd"
      },
      "execution_count": 75,
      "outputs": [
        {
          "output_type": "execute_result",
          "data": {
            "text/plain": [
              "matrix([[1, 2],\n",
              "        [3, 4]])"
            ]
          },
          "metadata": {},
          "execution_count": 75
        }
      ]
    },
    {
      "cell_type": "code",
      "source": [
        "l =[1,2,3,4] # list "
      ],
      "metadata": {
        "id": "AVOpxrog0JEU"
      },
      "execution_count": 77,
      "outputs": []
    },
    {
      "cell_type": "markdown",
      "source": [
        "np.array() , np.asarray() , np.asanyarray() all are used to convert no array data into array type\n",
        "suppose if data is already in any of the array type then np.asanyarray() cannot convert it into array form whereas other two can do"
      ],
      "metadata": {
        "id": "hEZQjdwu15a6"
      }
    },
    {
      "cell_type": "code",
      "source": [
        "np.array(l)"
      ],
      "metadata": {
        "colab": {
          "base_uri": "https://localhost:8080/"
        },
        "id": "6KtS7Q890akb",
        "outputId": "f64b30d3-dfea-4b79-d5c8-ab6440482010"
      },
      "execution_count": 78,
      "outputs": [
        {
          "output_type": "execute_result",
          "data": {
            "text/plain": [
              "array([1, 2, 3, 4])"
            ]
          },
          "metadata": {},
          "execution_count": 78
        }
      ]
    },
    {
      "cell_type": "code",
      "source": [
        "np.asarray(l)"
      ],
      "metadata": {
        "colab": {
          "base_uri": "https://localhost:8080/"
        },
        "id": "JNd22-AE0brQ",
        "outputId": "7682f6d4-cc72-409a-ac33-b87bfe8135b0"
      },
      "execution_count": 79,
      "outputs": [
        {
          "output_type": "execute_result",
          "data": {
            "text/plain": [
              "array([1, 2, 3, 4])"
            ]
          },
          "metadata": {},
          "execution_count": 79
        }
      ]
    },
    {
      "cell_type": "code",
      "source": [
        "np.asanyarray(l)"
      ],
      "metadata": {
        "colab": {
          "base_uri": "https://localhost:8080/"
        },
        "id": "Gg0Z5PPP0c4w",
        "outputId": "ea730fbb-e5fd-44d7-fe1f-f9a7a832d977"
      },
      "execution_count": 80,
      "outputs": [
        {
          "output_type": "execute_result",
          "data": {
            "text/plain": [
              "array([1, 2, 3, 4])"
            ]
          },
          "metadata": {},
          "execution_count": 80
        }
      ]
    },
    {
      "cell_type": "code",
      "source": [
        "np.asanyarray(mat) # though matrix is a form of array, np.asanyarray() cannot convert it into array"
      ],
      "metadata": {
        "colab": {
          "base_uri": "https://localhost:8080/"
        },
        "id": "yA7hhHBj0d0Y",
        "outputId": "12dd7690-1deb-4d2e-d077-b1e3de0c657d"
      },
      "execution_count": 81,
      "outputs": [
        {
          "output_type": "execute_result",
          "data": {
            "text/plain": [
              "matrix([[1, 2],\n",
              "        [3, 4]])"
            ]
          },
          "metadata": {},
          "execution_count": 81
        }
      ]
    },
    {
      "cell_type": "code",
      "source": [
        "np.asarray(mat) # by using asarray we can convert any type of data into array type"
      ],
      "metadata": {
        "colab": {
          "base_uri": "https://localhost:8080/"
        },
        "id": "Tp-zke2u3yO1",
        "outputId": "71a8b24f-726b-4f30-9107-1ddc64953e8b"
      },
      "execution_count": 82,
      "outputs": [
        {
          "output_type": "execute_result",
          "data": {
            "text/plain": [
              "array([[1, 2],\n",
              "       [3, 4]])"
            ]
          },
          "metadata": {},
          "execution_count": 82
        }
      ]
    },
    {
      "cell_type": "code",
      "source": [
        "np.array(mat)"
      ],
      "metadata": {
        "colab": {
          "base_uri": "https://localhost:8080/"
        },
        "id": "rfyKbDZl0Quh",
        "outputId": "af6e409d-1e20-45b1-e1e7-7d3b2e7773f6"
      },
      "execution_count": 83,
      "outputs": [
        {
          "output_type": "execute_result",
          "data": {
            "text/plain": [
              "array([[1, 2],\n",
              "       [3, 4]])"
            ]
          },
          "metadata": {},
          "execution_count": 83
        }
      ]
    },
    {
      "cell_type": "code",
      "source": [
        "issubclass(np.matrix,np.ndarray) # here we can check matrix is a subclass of numpy array or not"
      ],
      "metadata": {
        "colab": {
          "base_uri": "https://localhost:8080/"
        },
        "id": "SQPgZXKY4rZi",
        "outputId": "f7c450af-8aa0-4792-a643-53d69c310759"
      },
      "execution_count": 89,
      "outputs": [
        {
          "output_type": "execute_result",
          "data": {
            "text/plain": [
              "True"
            ]
          },
          "metadata": {},
          "execution_count": 89
        }
      ]
    },
    {
      "cell_type": "code",
      "source": [
        "issubclass(np.ndarray,np.matrix) # here we can check numpy array is a subclass of matrix or not"
      ],
      "metadata": {
        "colab": {
          "base_uri": "https://localhost:8080/"
        },
        "id": "Sfu4T8Lc4U5v",
        "outputId": "ec87509b-1b91-4c53-9cd6-cd44bda7700c"
      },
      "execution_count": 87,
      "outputs": [
        {
          "output_type": "execute_result",
          "data": {
            "text/plain": [
              "False"
            ]
          },
          "metadata": {},
          "execution_count": 87
        }
      ]
    },
    {
      "cell_type": "code",
      "source": [
        ""
      ],
      "metadata": {
        "id": "u5GHwfJ68Llx"
      },
      "execution_count": null,
      "outputs": []
    },
    {
      "cell_type": "markdown",
      "source": [
        "## **Shallow Copy and Deep Copy**\n",
        "\n",
        "numpy array is mutable so we can make cahnges to existing array\n",
        "\n",
        "**ShallowCopy:**\n",
        "\n",
        "if we assign an Original array to a variable it just refer to that array location, in such a case if we do any change in that Original array the change will reflect in that a variable as well.\n",
        "\n",
        "**DeepCopy:**\n",
        "\n",
        "using np.copy() if we assign an Original array to a variable it creates an another  copy of that array in other location and then assigned to that variable, so if we perform any change on that Original array it will not reflect in that varible."
      ],
      "metadata": {
        "id": "q4iby8iP6DEe"
      }
    },
    {
      "cell_type": "code",
      "source": [
        "arr = np.array([[1,2,3],[4,5,6]])"
      ],
      "metadata": {
        "id": "XAxvW0o15-XY"
      },
      "execution_count": 90,
      "outputs": []
    },
    {
      "cell_type": "code",
      "source": [
        "arr # Original Array"
      ],
      "metadata": {
        "colab": {
          "base_uri": "https://localhost:8080/"
        },
        "id": "hTUo6dZD9JSk",
        "outputId": "3bb921a7-74d1-4770-e485-06ae21f3fbbe"
      },
      "execution_count": 91,
      "outputs": [
        {
          "output_type": "execute_result",
          "data": {
            "text/plain": [
              "array([[1, 2, 3],\n",
              "       [4, 5, 6]])"
            ]
          },
          "metadata": {},
          "execution_count": 91
        }
      ]
    },
    {
      "cell_type": "code",
      "source": [
        "a = arr   # Shallow Copy\n",
        "a"
      ],
      "metadata": {
        "colab": {
          "base_uri": "https://localhost:8080/"
        },
        "id": "aPWdwttJ9KXr",
        "outputId": "2f3c7508-cda4-49e6-9b31-49de483f1060"
      },
      "execution_count": 97,
      "outputs": [
        {
          "output_type": "execute_result",
          "data": {
            "text/plain": [
              "array([[1, 2, 3],\n",
              "       [4, 5, 6]])"
            ]
          },
          "metadata": {},
          "execution_count": 97
        }
      ]
    },
    {
      "cell_type": "code",
      "source": [
        "b = np.copy(arr) # Deep Copy\n",
        "b"
      ],
      "metadata": {
        "colab": {
          "base_uri": "https://localhost:8080/"
        },
        "id": "-uAAwkPr9Qr0",
        "outputId": "6424853a-7806-4d6d-9ace-8a27e5f9ef5f"
      },
      "execution_count": 98,
      "outputs": [
        {
          "output_type": "execute_result",
          "data": {
            "text/plain": [
              "array([[1, 2, 3],\n",
              "       [4, 5, 6]])"
            ]
          },
          "metadata": {},
          "execution_count": 98
        }
      ]
    },
    {
      "cell_type": "code",
      "source": [
        "arr # Original Array"
      ],
      "metadata": {
        "colab": {
          "base_uri": "https://localhost:8080/"
        },
        "id": "zJXDrD8R9yJO",
        "outputId": "0716595c-b416-4b39-9186-de9691b46011"
      },
      "execution_count": 102,
      "outputs": [
        {
          "output_type": "execute_result",
          "data": {
            "text/plain": [
              "array([[1, 7, 3],\n",
              "       [4, 5, 6]])"
            ]
          },
          "metadata": {},
          "execution_count": 102
        }
      ]
    },
    {
      "cell_type": "code",
      "source": [
        "arr[0][1] = 7 # chaning value of original array"
      ],
      "metadata": {
        "id": "DrTMRVo59VQu"
      },
      "execution_count": 100,
      "outputs": []
    },
    {
      "cell_type": "code",
      "source": [
        "a # Shallow Copy result"
      ],
      "metadata": {
        "colab": {
          "base_uri": "https://localhost:8080/"
        },
        "id": "rseC1TbR9vnK",
        "outputId": "7d620e99-58e0-4ad6-a05e-b021e7d1dec0"
      },
      "execution_count": 101,
      "outputs": [
        {
          "output_type": "execute_result",
          "data": {
            "text/plain": [
              "array([[1, 7, 3],\n",
              "       [4, 5, 6]])"
            ]
          },
          "metadata": {},
          "execution_count": 101
        }
      ]
    },
    {
      "cell_type": "code",
      "source": [
        "b # Deep Copy result"
      ],
      "metadata": {
        "colab": {
          "base_uri": "https://localhost:8080/"
        },
        "id": "tMdx9LWf9xHd",
        "outputId": "60a012f8-e4cc-4c88-fba3-2345b081443d"
      },
      "execution_count": 103,
      "outputs": [
        {
          "output_type": "execute_result",
          "data": {
            "text/plain": [
              "array([[1, 2, 3],\n",
              "       [4, 5, 6]])"
            ]
          },
          "metadata": {},
          "execution_count": 103
        }
      ]
    },
    {
      "cell_type": "code",
      "source": [
        "arr[-1] # we can even use -1 to access elements from back side"
      ],
      "metadata": {
        "colab": {
          "base_uri": "https://localhost:8080/"
        },
        "id": "9ieyKIix_K9S",
        "outputId": "1f7eb717-fb62-4c12-e609-6971ce763dc2"
      },
      "execution_count": 106,
      "outputs": [
        {
          "output_type": "execute_result",
          "data": {
            "text/plain": [
              "array([4, 5, 6])"
            ]
          },
          "metadata": {},
          "execution_count": 106
        }
      ]
    },
    {
      "cell_type": "code",
      "source": [
        "arr.ndim # identifying dimensionality of array"
      ],
      "metadata": {
        "colab": {
          "base_uri": "https://localhost:8080/"
        },
        "id": "O3wjkX3Rum-o",
        "outputId": "da6994b4-ee17-494d-cb80-da1368673f1f"
      },
      "execution_count": 60,
      "outputs": [
        {
          "output_type": "execute_result",
          "data": {
            "text/plain": [
              "1"
            ]
          },
          "metadata": {},
          "execution_count": 60
        }
      ]
    },
    {
      "cell_type": "code",
      "source": [
        "np.array([[1,2,3,4],[5,6,7,8]]) # generating 2 dimensional array"
      ],
      "metadata": {
        "colab": {
          "base_uri": "https://localhost:8080/"
        },
        "id": "t-VhbAo_ub0G",
        "outputId": "20732282-050e-4a1a-d65b-bc6477b28e52"
      },
      "execution_count": 59,
      "outputs": [
        {
          "output_type": "execute_result",
          "data": {
            "text/plain": [
              "array([[1, 2, 3, 4],\n",
              "       [5, 6, 7, 8]])"
            ]
          },
          "metadata": {},
          "execution_count": 59
        }
      ]
    },
    {
      "cell_type": "code",
      "source": [
        "for i in arr: # we can even perform iteration on numpy array\n",
        "  print(i)"
      ],
      "metadata": {
        "colab": {
          "base_uri": "https://localhost:8080/"
        },
        "id": "q8gr9cmY_dFC",
        "outputId": "c08b3008-817b-4186-a1eb-522ce2518785"
      },
      "execution_count": 107,
      "outputs": [
        {
          "output_type": "stream",
          "name": "stdout",
          "text": [
            "[1 7 3]\n",
            "[4 5 6]\n"
          ]
        }
      ]
    },
    {
      "cell_type": "code",
      "source": [
        "np.fromfunction(lambda i,j : i==j , (4,4)) \n",
        "# using np.fromfunction we can get values from functions as well and then we can convert them into numpy array"
      ],
      "metadata": {
        "colab": {
          "base_uri": "https://localhost:8080/"
        },
        "id": "gLJvm7kP_l1k",
        "outputId": "d4067837-6380-4d13-cce7-e81b6165cf98"
      },
      "execution_count": 110,
      "outputs": [
        {
          "output_type": "execute_result",
          "data": {
            "text/plain": [
              "array([[ True, False, False, False],\n",
              "       [False,  True, False, False],\n",
              "       [False, False,  True, False],\n",
              "       [False, False, False,  True]])"
            ]
          },
          "metadata": {},
          "execution_count": 110
        }
      ]
    },
    {
      "cell_type": "code",
      "source": [
        "type(np.fromfunction(lambda i,j : i==j , (4,4)))"
      ],
      "metadata": {
        "colab": {
          "base_uri": "https://localhost:8080/"
        },
        "id": "tU6lhEuJAJ6o",
        "outputId": "1ff98cca-3e21-4593-bffc-2b479ca26114"
      },
      "execution_count": 111,
      "outputs": [
        {
          "output_type": "execute_result",
          "data": {
            "text/plain": [
              "numpy.ndarray"
            ]
          },
          "metadata": {},
          "execution_count": 111
        }
      ]
    },
    {
      "cell_type": "code",
      "source": [
        "np.fromfunction(lambda i,j : i*j , (4,4))"
      ],
      "metadata": {
        "colab": {
          "base_uri": "https://localhost:8080/"
        },
        "id": "sn0_RW7oAtHw",
        "outputId": "a57bf53c-ab24-4488-fa16-b116e159c78e"
      },
      "execution_count": 118,
      "outputs": [
        {
          "output_type": "execute_result",
          "data": {
            "text/plain": [
              "array([[0., 0., 0., 0.],\n",
              "       [0., 1., 2., 3.],\n",
              "       [0., 2., 4., 6.],\n",
              "       [0., 3., 6., 9.]])"
            ]
          },
          "metadata": {},
          "execution_count": 118
        }
      ]
    },
    {
      "cell_type": "code",
      "source": [
        "np.fromfunction(lambda i,j : i**j, (3,3))"
      ],
      "metadata": {
        "colab": {
          "base_uri": "https://localhost:8080/"
        },
        "id": "1Vvj0Fs1DnOv",
        "outputId": "af4c213f-2b14-425e-8660-f13443b6273c"
      },
      "execution_count": 119,
      "outputs": [
        {
          "output_type": "execute_result",
          "data": {
            "text/plain": [
              "array([[1., 0., 0.],\n",
              "       [1., 1., 1.],\n",
              "       [1., 2., 4.]])"
            ]
          },
          "metadata": {},
          "execution_count": 119
        }
      ]
    },
    {
      "cell_type": "code",
      "source": [
        "np.fromfunction(lambda i,j : i/j, (3,3))"
      ],
      "metadata": {
        "colab": {
          "base_uri": "https://localhost:8080/"
        },
        "id": "PrOwbBi_FdvM",
        "outputId": "606760d4-f9b2-4c5b-f088-e42e997599fb"
      },
      "execution_count": 120,
      "outputs": [
        {
          "output_type": "stream",
          "name": "stderr",
          "text": [
            "/usr/local/lib/python3.7/dist-packages/ipykernel_launcher.py:1: RuntimeWarning: divide by zero encountered in true_divide\n",
            "  \"\"\"Entry point for launching an IPython kernel.\n",
            "/usr/local/lib/python3.7/dist-packages/ipykernel_launcher.py:1: RuntimeWarning: invalid value encountered in true_divide\n",
            "  \"\"\"Entry point for launching an IPython kernel.\n"
          ]
        },
        {
          "output_type": "execute_result",
          "data": {
            "text/plain": [
              "array([[nan, 0. , 0. ],\n",
              "       [inf, 1. , 0.5],\n",
              "       [inf, 2. , 1. ]])"
            ]
          },
          "metadata": {},
          "execution_count": 120
        }
      ]
    },
    {
      "cell_type": "code",
      "source": [
        "0/0"
      ],
      "metadata": {
        "colab": {
          "base_uri": "https://localhost:8080/",
          "height": 166
        },
        "id": "UydFFSShJHfc",
        "outputId": "26675e63-6fdb-4ac3-ca0d-6e4d9ea67ed3"
      },
      "execution_count": 1,
      "outputs": [
        {
          "output_type": "error",
          "ename": "ZeroDivisionError",
          "evalue": "ignored",
          "traceback": [
            "\u001b[0;31m---------------------------------------------------------------------------\u001b[0m",
            "\u001b[0;31mZeroDivisionError\u001b[0m                         Traceback (most recent call last)",
            "\u001b[0;32m<ipython-input-1-9ab73e148374>\u001b[0m in \u001b[0;36m<module>\u001b[0;34m()\u001b[0m\n\u001b[0;32m----> 1\u001b[0;31m \u001b[0;36m0\u001b[0m\u001b[0;34m/\u001b[0m\u001b[0;36m0\u001b[0m\u001b[0;34m\u001b[0m\u001b[0;34m\u001b[0m\u001b[0m\n\u001b[0m",
            "\u001b[0;31mZeroDivisionError\u001b[0m: division by zero"
          ]
        }
      ]
    },
    {
      "cell_type": "code",
      "source": [
        "1/0"
      ],
      "metadata": {
        "colab": {
          "base_uri": "https://localhost:8080/",
          "height": 166
        },
        "id": "qOSniqZMpep8",
        "outputId": "05dc951a-38a4-49a6-f5dd-e030a4054356"
      },
      "execution_count": 2,
      "outputs": [
        {
          "output_type": "error",
          "ename": "ZeroDivisionError",
          "evalue": "ignored",
          "traceback": [
            "\u001b[0;31m---------------------------------------------------------------------------\u001b[0m",
            "\u001b[0;31mZeroDivisionError\u001b[0m                         Traceback (most recent call last)",
            "\u001b[0;32m<ipython-input-2-9e1622b385b6>\u001b[0m in \u001b[0;36m<module>\u001b[0;34m()\u001b[0m\n\u001b[0;32m----> 1\u001b[0;31m \u001b[0;36m1\u001b[0m\u001b[0;34m/\u001b[0m\u001b[0;36m0\u001b[0m\u001b[0;34m\u001b[0m\u001b[0;34m\u001b[0m\u001b[0m\n\u001b[0m",
            "\u001b[0;31mZeroDivisionError\u001b[0m: division by zero"
          ]
        }
      ]
    },
    {
      "cell_type": "code",
      "source": [
        "gen = (i*i for i in range(5))"
      ],
      "metadata": {
        "id": "-_97s6CfpgMJ"
      },
      "execution_count": 3,
      "outputs": []
    },
    {
      "cell_type": "code",
      "source": [
        "gen"
      ],
      "metadata": {
        "colab": {
          "base_uri": "https://localhost:8080/"
        },
        "id": "vewCSHJEptye",
        "outputId": "56a2b945-6deb-48d5-d82c-fd4fe2924c17"
      },
      "execution_count": 4,
      "outputs": [
        {
          "output_type": "execute_result",
          "data": {
            "text/plain": [
              "<generator object <genexpr> at 0x7fd50d265250>"
            ]
          },
          "metadata": {},
          "execution_count": 4
        }
      ]
    },
    {
      "cell_type": "code",
      "source": [
        "def test(x):\n",
        "  yield x\n",
        "test(5)"
      ],
      "metadata": {
        "colab": {
          "base_uri": "https://localhost:8080/"
        },
        "id": "QlIIYzWLpvPI",
        "outputId": "d3f8fe91-6148-4cce-d157-b5ad009660b7"
      },
      "execution_count": 7,
      "outputs": [
        {
          "output_type": "execute_result",
          "data": {
            "text/plain": [
              "<generator object test at 0x7fd50d1d7550>"
            ]
          },
          "metadata": {},
          "execution_count": 7
        }
      ]
    },
    {
      "cell_type": "code",
      "source": [
        "for i in gen:\n",
        "  print(i)"
      ],
      "metadata": {
        "colab": {
          "base_uri": "https://localhost:8080/"
        },
        "id": "jwgHQsMMqBTG",
        "outputId": "56f83a8d-dc2a-4b2f-e3d5-93c2e16b94a6"
      },
      "execution_count": 8,
      "outputs": [
        {
          "output_type": "stream",
          "name": "stdout",
          "text": [
            "0\n",
            "1\n",
            "4\n",
            "9\n",
            "16\n"
          ]
        }
      ]
    },
    {
      "cell_type": "code",
      "source": [
        "np.fromiter(range(5), dtype=int)"
      ],
      "metadata": {
        "colab": {
          "base_uri": "https://localhost:8080/"
        },
        "id": "3u7wtMkvqVaj",
        "outputId": "6a707b30-9464-4fff-d796-8d5c049cdab1"
      },
      "execution_count": 12,
      "outputs": [
        {
          "output_type": "execute_result",
          "data": {
            "text/plain": [
              "array([0, 1, 2, 3, 4])"
            ]
          },
          "metadata": {},
          "execution_count": 12
        }
      ]
    },
    {
      "cell_type": "code",
      "source": [
        "np.fromstring('1,2,3,4,5',sep=',',dtype=int)"
      ],
      "metadata": {
        "colab": {
          "base_uri": "https://localhost:8080/"
        },
        "id": "zTU80P52qkVk",
        "outputId": "f78b3121-d54f-4b72-b48f-28e4b161c3ec"
      },
      "execution_count": 14,
      "outputs": [
        {
          "output_type": "execute_result",
          "data": {
            "text/plain": [
              "array([1, 2, 3, 4, 5])"
            ]
          },
          "metadata": {},
          "execution_count": 14
        }
      ]
    },
    {
      "cell_type": "code",
      "source": [
        "np.fromstring(\"456 456 3454 34543\" ,sep = ' ', dtype= complex)"
      ],
      "metadata": {
        "colab": {
          "base_uri": "https://localhost:8080/"
        },
        "id": "QNsDfnOvqz-5",
        "outputId": "e8e4a9e2-fdb0-44da-f17e-d44184380932"
      },
      "execution_count": 15,
      "outputs": [
        {
          "output_type": "execute_result",
          "data": {
            "text/plain": [
              "array([  456.+0.j,   456.+0.j,  3454.+0.j, 34543.+0.j])"
            ]
          },
          "metadata": {},
          "execution_count": 15
        }
      ]
    },
    {
      "cell_type": "code",
      "source": [
        "arr1 = np.array([[1,2,3,4] , [2,3,4,5] , [4,5,6,7]])\n",
        "arr1"
      ],
      "metadata": {
        "colab": {
          "base_uri": "https://localhost:8080/"
        },
        "id": "13SPMPPxq5EJ",
        "outputId": "78998d61-d80f-499f-f8de-f3a22840875c"
      },
      "execution_count": 17,
      "outputs": [
        {
          "output_type": "execute_result",
          "data": {
            "text/plain": [
              "array([[1, 2, 3, 4],\n",
              "       [2, 3, 4, 5],\n",
              "       [4, 5, 6, 7]])"
            ]
          },
          "metadata": {},
          "execution_count": 17
        }
      ]
    },
    {
      "cell_type": "code",
      "source": [
        "type(arr1)"
      ],
      "metadata": {
        "colab": {
          "base_uri": "https://localhost:8080/"
        },
        "id": "mZs88XLqrPhw",
        "outputId": "d29f3614-dba8-4469-e528-553f8c18377c"
      },
      "execution_count": 19,
      "outputs": [
        {
          "output_type": "execute_result",
          "data": {
            "text/plain": [
              "numpy.ndarray"
            ]
          },
          "metadata": {},
          "execution_count": 19
        }
      ]
    },
    {
      "cell_type": "code",
      "source": [
        "arr1.ndim"
      ],
      "metadata": {
        "colab": {
          "base_uri": "https://localhost:8080/"
        },
        "id": "Jg-RuzTfrTIV",
        "outputId": "253f51dd-d632-4be4-f1e1-127864a33de7"
      },
      "execution_count": 22,
      "outputs": [
        {
          "output_type": "execute_result",
          "data": {
            "text/plain": [
              "2"
            ]
          },
          "metadata": {},
          "execution_count": 22
        }
      ]
    },
    {
      "cell_type": "code",
      "source": [
        "arr1.size # it provide of count of elements in the array"
      ],
      "metadata": {
        "colab": {
          "base_uri": "https://localhost:8080/"
        },
        "id": "ptLjx5zmrXSH",
        "outputId": "d02d769d-804a-4eb7-e329-f6e3e0c9e49e"
      },
      "execution_count": 25,
      "outputs": [
        {
          "output_type": "execute_result",
          "data": {
            "text/plain": [
              "12"
            ]
          },
          "metadata": {},
          "execution_count": 25
        }
      ]
    },
    {
      "cell_type": "code",
      "source": [
        "arr1.shape # provides NXM (N cross M), N = number of rows ; M = number of columns of an array"
      ],
      "metadata": {
        "colab": {
          "base_uri": "https://localhost:8080/"
        },
        "id": "bLpbyviws6AV",
        "outputId": "32e848a6-b804-46ef-ae65-0dae167d9007"
      },
      "execution_count": 26,
      "outputs": [
        {
          "output_type": "execute_result",
          "data": {
            "text/plain": [
              "(3, 4)"
            ]
          },
          "metadata": {},
          "execution_count": 26
        }
      ]
    },
    {
      "cell_type": "code",
      "source": [
        "arr1.dtype # provides data type of elements in array"
      ],
      "metadata": {
        "colab": {
          "base_uri": "https://localhost:8080/"
        },
        "id": "W2r8NwBdtZnL",
        "outputId": "196e3bf1-124d-4ecf-ef49-35556df5ccf9"
      },
      "execution_count": 27,
      "outputs": [
        {
          "output_type": "execute_result",
          "data": {
            "text/plain": [
              "dtype('int64')"
            ]
          },
          "metadata": {},
          "execution_count": 27
        }
      ]
    },
    {
      "cell_type": "code",
      "source": [
        "arr = np.array([1,2,3,4])\n",
        "arr"
      ],
      "metadata": {
        "colab": {
          "base_uri": "https://localhost:8080/"
        },
        "id": "ryR_bRTkrL7h",
        "outputId": "f94040e6-5f2c-4d2a-a601-d0ee280736c3"
      },
      "execution_count": 40,
      "outputs": [
        {
          "output_type": "execute_result",
          "data": {
            "text/plain": [
              "array([1, 2, 3, 4])"
            ]
          },
          "metadata": {},
          "execution_count": 40
        }
      ]
    },
    {
      "cell_type": "code",
      "source": [
        "arr.size"
      ],
      "metadata": {
        "colab": {
          "base_uri": "https://localhost:8080/"
        },
        "id": "Eq7wlModu6dV",
        "outputId": "07e8c9a7-d6d4-4a87-9ca0-4785e6a03460"
      },
      "execution_count": 42,
      "outputs": [
        {
          "output_type": "execute_result",
          "data": {
            "text/plain": [
              "4"
            ]
          },
          "metadata": {},
          "execution_count": 42
        }
      ]
    },
    {
      "cell_type": "code",
      "source": [
        "arr.shape"
      ],
      "metadata": {
        "colab": {
          "base_uri": "https://localhost:8080/"
        },
        "id": "7xfMWRhHt9cg",
        "outputId": "bcc1052b-ba12-40b8-8c68-c28fda09c9a1"
      },
      "execution_count": 43,
      "outputs": [
        {
          "output_type": "execute_result",
          "data": {
            "text/plain": [
              "(4,)"
            ]
          },
          "metadata": {},
          "execution_count": 43
        }
      ]
    },
    {
      "cell_type": "code",
      "source": [
        "arr.ndim"
      ],
      "metadata": {
        "colab": {
          "base_uri": "https://localhost:8080/"
        },
        "id": "BkhXZEn8t9rQ",
        "outputId": "9ac95bf7-690c-455e-f279-42d74c15b492"
      },
      "execution_count": 44,
      "outputs": [
        {
          "output_type": "execute_result",
          "data": {
            "text/plain": [
              "1"
            ]
          },
          "metadata": {},
          "execution_count": 44
        }
      ]
    },
    {
      "cell_type": "code",
      "source": [
        "arr2 = np.array([[[1,2,3,4],[5,6,7,8]],[[32,32,32,32],[9,10,11,12]]])\n",
        "arr2"
      ],
      "metadata": {
        "colab": {
          "base_uri": "https://localhost:8080/"
        },
        "id": "ra5CBDdvt92W",
        "outputId": "3d102331-ef97-4aa9-8c3b-d25a1d995942"
      },
      "execution_count": 50,
      "outputs": [
        {
          "output_type": "execute_result",
          "data": {
            "text/plain": [
              "array([[[ 1,  2,  3,  4],\n",
              "        [ 5,  6,  7,  8]],\n",
              "\n",
              "       [[32, 32, 32, 32],\n",
              "        [ 9, 10, 11, 12]]])"
            ]
          },
          "metadata": {},
          "execution_count": 50
        }
      ]
    },
    {
      "cell_type": "code",
      "source": [
        "arr2.ndim"
      ],
      "metadata": {
        "colab": {
          "base_uri": "https://localhost:8080/"
        },
        "id": "Bb45DbPXvcX6",
        "outputId": "f1409de6-4445-45c7-c3d1-ccff1d665da2"
      },
      "execution_count": 51,
      "outputs": [
        {
          "output_type": "execute_result",
          "data": {
            "text/plain": [
              "3"
            ]
          },
          "metadata": {},
          "execution_count": 51
        }
      ]
    },
    {
      "cell_type": "code",
      "source": [
        "arr2.size"
      ],
      "metadata": {
        "colab": {
          "base_uri": "https://localhost:8080/"
        },
        "id": "vg-8Chabvcpv",
        "outputId": "45c5ed11-70b4-48f0-e2cc-aa5059a657f3"
      },
      "execution_count": 52,
      "outputs": [
        {
          "output_type": "execute_result",
          "data": {
            "text/plain": [
              "16"
            ]
          },
          "metadata": {},
          "execution_count": 52
        }
      ]
    },
    {
      "cell_type": "code",
      "source": [
        "arr2.shape  # here (2,2,4) defines last 4 refers to columns (M) , last but 2nd 2 refers to rows (N), \n",
        "#first number 2 referes number of layers with such N X M"
      ],
      "metadata": {
        "colab": {
          "base_uri": "https://localhost:8080/"
        },
        "id": "otjZBszAvdDa",
        "outputId": "905e5ac7-61fb-4e63-b5a3-943071e073a9"
      },
      "execution_count": 53,
      "outputs": [
        {
          "output_type": "execute_result",
          "data": {
            "text/plain": [
              "(2, 2, 4)"
            ]
          },
          "metadata": {},
          "execution_count": 53
        }
      ]
    },
    {
      "cell_type": "code",
      "source": [
        "arr4 = np.array([[[[1,2,3,4],[4,5,6,7]],[[1,2,3,4],[4,5,6,7]],[[1,2,3,4],[4,5,6,7]],[[1,2,3,4],[4,5,6,7]]]])\n",
        "arr4"
      ],
      "metadata": {
        "colab": {
          "base_uri": "https://localhost:8080/"
        },
        "id": "7Y2AS7pzt-By",
        "outputId": "64ef724b-ffe1-43c4-a211-a682d4689552"
      },
      "execution_count": 54,
      "outputs": [
        {
          "output_type": "execute_result",
          "data": {
            "text/plain": [
              "array([[[[1, 2, 3, 4],\n",
              "         [4, 5, 6, 7]],\n",
              "\n",
              "        [[1, 2, 3, 4],\n",
              "         [4, 5, 6, 7]],\n",
              "\n",
              "        [[1, 2, 3, 4],\n",
              "         [4, 5, 6, 7]],\n",
              "\n",
              "        [[1, 2, 3, 4],\n",
              "         [4, 5, 6, 7]]]])"
            ]
          },
          "metadata": {},
          "execution_count": 54
        }
      ]
    },
    {
      "cell_type": "code",
      "source": [
        "arr4.ndim"
      ],
      "metadata": {
        "colab": {
          "base_uri": "https://localhost:8080/"
        },
        "id": "aThzR9qX1ezX",
        "outputId": "8bc5e345-4903-4aa0-9d99-43e2c9c9c731"
      },
      "execution_count": 57,
      "outputs": [
        {
          "output_type": "execute_result",
          "data": {
            "text/plain": [
              "4"
            ]
          },
          "metadata": {},
          "execution_count": 57
        }
      ]
    },
    {
      "cell_type": "code",
      "source": [
        "arr4.shape"
      ],
      "metadata": {
        "colab": {
          "base_uri": "https://localhost:8080/"
        },
        "id": "Z5yiwn7Wv3UQ",
        "outputId": "723fe250-bbf8-4bee-eed0-5daef13f02e0"
      },
      "execution_count": 58,
      "outputs": [
        {
          "output_type": "execute_result",
          "data": {
            "text/plain": [
              "(1, 4, 2, 4)"
            ]
          },
          "metadata": {},
          "execution_count": 58
        }
      ]
    },
    {
      "cell_type": "code",
      "source": [
        "list(range(5,10))"
      ],
      "metadata": {
        "colab": {
          "base_uri": "https://localhost:8080/"
        },
        "id": "c38NR8uX1_NS",
        "outputId": "dce2371e-493a-4930-8324-c771abac8b65"
      },
      "execution_count": 59,
      "outputs": [
        {
          "output_type": "execute_result",
          "data": {
            "text/plain": [
              "[5, 6, 7, 8, 9]"
            ]
          },
          "metadata": {},
          "execution_count": 59
        }
      ]
    },
    {
      "cell_type": "code",
      "source": [
        "list(range(5.0,10.0)) # floating point values wont work in this case"
      ],
      "metadata": {
        "colab": {
          "base_uri": "https://localhost:8080/",
          "height": 166
        },
        "id": "p2mFKSI63XEE",
        "outputId": "868a6c81-118b-40d3-afc4-cd9171d1f646"
      },
      "execution_count": 60,
      "outputs": [
        {
          "output_type": "error",
          "ename": "TypeError",
          "evalue": "ignored",
          "traceback": [
            "\u001b[0;31m---------------------------------------------------------------------------\u001b[0m",
            "\u001b[0;31mTypeError\u001b[0m                                 Traceback (most recent call last)",
            "\u001b[0;32m<ipython-input-60-ffdf1ef167c3>\u001b[0m in \u001b[0;36m<module>\u001b[0;34m()\u001b[0m\n\u001b[0;32m----> 1\u001b[0;31m \u001b[0mlist\u001b[0m\u001b[0;34m(\u001b[0m\u001b[0mrange\u001b[0m\u001b[0;34m(\u001b[0m\u001b[0;36m5.0\u001b[0m\u001b[0;34m,\u001b[0m\u001b[0;36m10.0\u001b[0m\u001b[0;34m)\u001b[0m\u001b[0;34m)\u001b[0m\u001b[0;34m\u001b[0m\u001b[0;34m\u001b[0m\u001b[0m\n\u001b[0m",
            "\u001b[0;31mTypeError\u001b[0m: 'float' object cannot be interpreted as an integer"
          ]
        }
      ]
    },
    {
      "cell_type": "code",
      "source": [
        "np.arange(5.0,10.0) # to resolve above this np.arange() function will be used"
      ],
      "metadata": {
        "colab": {
          "base_uri": "https://localhost:8080/"
        },
        "id": "A8RSyEJb3eAK",
        "outputId": "8e4edc28-46f7-40bc-c69d-8c9b6cde2893"
      },
      "execution_count": 62,
      "outputs": [
        {
          "output_type": "execute_result",
          "data": {
            "text/plain": [
              "array([5., 6., 7., 8., 9.])"
            ]
          },
          "metadata": {},
          "execution_count": 62
        }
      ]
    },
    {
      "cell_type": "code",
      "source": [
        "np.arange(5.0,10.0,2) # we can also perform negative slicing as well"
      ],
      "metadata": {
        "colab": {
          "base_uri": "https://localhost:8080/"
        },
        "id": "7BvNuaRM1_eJ",
        "outputId": "c2776332-ea43-4536-adc7-3b3c316521c2"
      },
      "execution_count": 63,
      "outputs": [
        {
          "output_type": "execute_result",
          "data": {
            "text/plain": [
              "array([5., 7., 9.])"
            ]
          },
          "metadata": {},
          "execution_count": 63
        }
      ]
    },
    {
      "cell_type": "code",
      "source": [
        "np.linspace(1,10) # by default 50 values will be provided"
      ],
      "metadata": {
        "colab": {
          "base_uri": "https://localhost:8080/"
        },
        "id": "NqIk7DkR4Bde",
        "outputId": "932aa689-1d14-465d-a75e-0740a320cb43"
      },
      "execution_count": 66,
      "outputs": [
        {
          "output_type": "execute_result",
          "data": {
            "text/plain": [
              "array([ 1.        ,  1.18367347,  1.36734694,  1.55102041,  1.73469388,\n",
              "        1.91836735,  2.10204082,  2.28571429,  2.46938776,  2.65306122,\n",
              "        2.83673469,  3.02040816,  3.20408163,  3.3877551 ,  3.57142857,\n",
              "        3.75510204,  3.93877551,  4.12244898,  4.30612245,  4.48979592,\n",
              "        4.67346939,  4.85714286,  5.04081633,  5.2244898 ,  5.40816327,\n",
              "        5.59183673,  5.7755102 ,  5.95918367,  6.14285714,  6.32653061,\n",
              "        6.51020408,  6.69387755,  6.87755102,  7.06122449,  7.24489796,\n",
              "        7.42857143,  7.6122449 ,  7.79591837,  7.97959184,  8.16326531,\n",
              "        8.34693878,  8.53061224,  8.71428571,  8.89795918,  9.08163265,\n",
              "        9.26530612,  9.44897959,  9.63265306,  9.81632653, 10.        ])"
            ]
          },
          "metadata": {},
          "execution_count": 66
        }
      ]
    },
    {
      "cell_type": "code",
      "source": [
        "np.linspace(1,10,5) # we are requesting only 5 values with in that range\n",
        "# here the upper bound may be 10.00000000000000000001 may be something so we are getting 10 in output"
      ],
      "metadata": {
        "colab": {
          "base_uri": "https://localhost:8080/"
        },
        "id": "yWQKQ9oL4d96",
        "outputId": "ccbfbe7d-a0ad-4078-8d37-72f79726d46a"
      },
      "execution_count": 67,
      "outputs": [
        {
          "output_type": "execute_result",
          "data": {
            "text/plain": [
              "array([ 1.  ,  3.25,  5.5 ,  7.75, 10.  ])"
            ]
          },
          "metadata": {},
          "execution_count": 67
        }
      ]
    },
    {
      "cell_type": "code",
      "source": [
        "np.zeros(5) # provides us an array of complete 0 elements with specified range"
      ],
      "metadata": {
        "colab": {
          "base_uri": "https://localhost:8080/"
        },
        "id": "ZO5taQzK5A7h",
        "outputId": "9b804719-0d3d-4f60-b0fd-5e698cf4f443"
      },
      "execution_count": 68,
      "outputs": [
        {
          "output_type": "execute_result",
          "data": {
            "text/plain": [
              "array([0., 0., 0., 0., 0.])"
            ]
          },
          "metadata": {},
          "execution_count": 68
        }
      ]
    },
    {
      "cell_type": "code",
      "source": [
        "np.zeros((5,4))"
      ],
      "metadata": {
        "colab": {
          "base_uri": "https://localhost:8080/"
        },
        "id": "3MTnvHYd5C2v",
        "outputId": "0c44832f-61a1-4160-f4bf-c0cc3509bf05"
      },
      "execution_count": 70,
      "outputs": [
        {
          "output_type": "execute_result",
          "data": {
            "text/plain": [
              "array([[0., 0., 0., 0.],\n",
              "       [0., 0., 0., 0.],\n",
              "       [0., 0., 0., 0.],\n",
              "       [0., 0., 0., 0.],\n",
              "       [0., 0., 0., 0.]])"
            ]
          },
          "metadata": {},
          "execution_count": 70
        }
      ]
    },
    {
      "cell_type": "code",
      "source": [
        "np.zeros([5,2])"
      ],
      "metadata": {
        "colab": {
          "base_uri": "https://localhost:8080/"
        },
        "id": "uzDkuEGZksh7",
        "outputId": "c2d72c1e-9960-417b-d453-619e1661f555"
      },
      "execution_count": 23,
      "outputs": [
        {
          "output_type": "execute_result",
          "data": {
            "text/plain": [
              "array([[0., 0.],\n",
              "       [0., 0.],\n",
              "       [0., 0.],\n",
              "       [0., 0.],\n",
              "       [0., 0.]])"
            ]
          },
          "metadata": {},
          "execution_count": 23
        }
      ]
    },
    {
      "cell_type": "code",
      "source": [
        "np.zeros((2,5,4)) # 2 layers of 5 X 4 arrays in 3D array"
      ],
      "metadata": {
        "colab": {
          "base_uri": "https://localhost:8080/"
        },
        "id": "TzYM47qy3z4U",
        "outputId": "73675a37-ddcf-4b11-f212-6596c71df87c"
      },
      "execution_count": 71,
      "outputs": [
        {
          "output_type": "execute_result",
          "data": {
            "text/plain": [
              "array([[[0., 0., 0., 0.],\n",
              "        [0., 0., 0., 0.],\n",
              "        [0., 0., 0., 0.],\n",
              "        [0., 0., 0., 0.],\n",
              "        [0., 0., 0., 0.]],\n",
              "\n",
              "       [[0., 0., 0., 0.],\n",
              "        [0., 0., 0., 0.],\n",
              "        [0., 0., 0., 0.],\n",
              "        [0., 0., 0., 0.],\n",
              "        [0., 0., 0., 0.]]])"
            ]
          },
          "metadata": {},
          "execution_count": 71
        }
      ]
    },
    {
      "cell_type": "code",
      "source": [
        "np.ones(5) # provides us an array of complete 1 elements with specified range"
      ],
      "metadata": {
        "colab": {
          "base_uri": "https://localhost:8080/"
        },
        "id": "TmZce3JB30KO",
        "outputId": "133c5db7-3bf7-4033-d986-906959e14a6b"
      },
      "execution_count": 73,
      "outputs": [
        {
          "output_type": "execute_result",
          "data": {
            "text/plain": [
              "array([1., 1., 1., 1., 1.])"
            ]
          },
          "metadata": {},
          "execution_count": 73
        }
      ]
    },
    {
      "cell_type": "code",
      "source": [
        "np.ones([5,2]) "
      ],
      "metadata": {
        "colab": {
          "base_uri": "https://localhost:8080/"
        },
        "id": "QjzKZGiCDMuy",
        "outputId": "ce364207-9ed5-4347-9cde-78a21352b928"
      },
      "execution_count": 112,
      "outputs": [
        {
          "output_type": "execute_result",
          "data": {
            "text/plain": [
              "array([[1., 1.],\n",
              "       [1., 1.],\n",
              "       [1., 1.],\n",
              "       [1., 1.],\n",
              "       [1., 1.]])"
            ]
          },
          "metadata": {},
          "execution_count": 112
        }
      ]
    },
    {
      "cell_type": "code",
      "source": [
        "np.ones(((2,5,4)))"
      ],
      "metadata": {
        "colab": {
          "base_uri": "https://localhost:8080/"
        },
        "id": "XEasKn2B30sA",
        "outputId": "b820a8de-6387-46be-90b7-8ca8781d0bcb"
      },
      "execution_count": 75,
      "outputs": [
        {
          "output_type": "execute_result",
          "data": {
            "text/plain": [
              "array([[[1., 1., 1., 1.],\n",
              "        [1., 1., 1., 1.],\n",
              "        [1., 1., 1., 1.],\n",
              "        [1., 1., 1., 1.],\n",
              "        [1., 1., 1., 1.]],\n",
              "\n",
              "       [[1., 1., 1., 1.],\n",
              "        [1., 1., 1., 1.],\n",
              "        [1., 1., 1., 1.],\n",
              "        [1., 1., 1., 1.],\n",
              "        [1., 1., 1., 1.]]])"
            ]
          },
          "metadata": {},
          "execution_count": 75
        }
      ]
    },
    {
      "cell_type": "code",
      "source": [
        "np.ones(((2,5,4)))+5"
      ],
      "metadata": {
        "colab": {
          "base_uri": "https://localhost:8080/"
        },
        "id": "eP8cgjU3308w",
        "outputId": "b63f0da7-8b4e-4156-c1be-262385089144"
      },
      "execution_count": 76,
      "outputs": [
        {
          "output_type": "execute_result",
          "data": {
            "text/plain": [
              "array([[[6., 6., 6., 6.],\n",
              "        [6., 6., 6., 6.],\n",
              "        [6., 6., 6., 6.],\n",
              "        [6., 6., 6., 6.],\n",
              "        [6., 6., 6., 6.]],\n",
              "\n",
              "       [[6., 6., 6., 6.],\n",
              "        [6., 6., 6., 6.],\n",
              "        [6., 6., 6., 6.],\n",
              "        [6., 6., 6., 6.],\n",
              "        [6., 6., 6., 6.]]])"
            ]
          },
          "metadata": {},
          "execution_count": 76
        }
      ]
    },
    {
      "cell_type": "code",
      "source": [
        "np.empty(5)"
      ],
      "metadata": {
        "colab": {
          "base_uri": "https://localhost:8080/"
        },
        "id": "KmDi_roS2AMv",
        "outputId": "e8c27ff4-5859-4968-e6e1-eb6469e82fad"
      },
      "execution_count": 77,
      "outputs": [
        {
          "output_type": "execute_result",
          "data": {
            "text/plain": [
              "array([7.74860419e-304, 7.74860419e-304, 7.74860419e-304, 7.74860419e-304,\n",
              "       7.74860419e-304])"
            ]
          },
          "metadata": {},
          "execution_count": 77
        }
      ]
    },
    {
      "cell_type": "code",
      "source": [
        "np.empty((3,4))"
      ],
      "metadata": {
        "colab": {
          "base_uri": "https://localhost:8080/"
        },
        "id": "aV6qMt3t9Xd2",
        "outputId": "0453c919-5eab-4f4e-c5f9-72f61056db3a"
      },
      "execution_count": 79,
      "outputs": [
        {
          "output_type": "execute_result",
          "data": {
            "text/plain": [
              "array([[4.65960365e-310, 2.35541533e-312, 2.14321575e-312,\n",
              "        8.48798317e-313],\n",
              "       [8.48798317e-313, 9.33678148e-313, 9.33678148e-313,\n",
              "        8.70018275e-313],\n",
              "       [8.70018274e-313, 1.12465777e-312, 1.01855798e-312,\n",
              "        1.46030983e-319]])"
            ]
          },
          "metadata": {},
          "execution_count": 79
        }
      ]
    },
    {
      "cell_type": "code",
      "source": [
        "np.empty([5,9])"
      ],
      "metadata": {
        "colab": {
          "base_uri": "https://localhost:8080/"
        },
        "id": "StoZnKe-DQnr",
        "outputId": "e5b2f6f9-767f-4d2a-de72-836af8056646"
      },
      "execution_count": 115,
      "outputs": [
        {
          "output_type": "execute_result",
          "data": {
            "text/plain": [
              "array([[4.64180559e-310, 1.58595072e-321, 0.00000000e+000,\n",
              "        0.00000000e+000, 2.43565992e-154, 3.16251369e+180,\n",
              "        3.74271162e+233, 4.31906163e-096, 1.14568603e+243],\n",
              "       [5.48912304e-143, 1.29060660e+248, 1.16071791e-028,\n",
              "        2.28176674e+243, 9.31115425e+242, 2.59031262e-144,\n",
              "        2.86530729e+161, 2.11329502e+214, 7.49511203e+247],\n",
              "       [1.12284826e+219, 1.94919754e-153, 3.50896888e+151,\n",
              "        2.59903818e-144, 4.97750675e+151, 9.08367206e+223,\n",
              "        1.48890323e+195, 1.39028129e-142, 7.69152992e+218],\n",
              "       [1.23762599e+224, 1.04918335e-153, 5.82659549e+252,\n",
              "        2.24154146e+174, 1.09936966e+248, 6.42618040e-095,\n",
              "        7.92521264e+068, 7.29489530e+175, 1.04989162e-153],\n",
              "       [5.39840330e+242, 2.16209963e+233, 4.06762684e-144,\n",
              "        3.99256150e+252, 9.18178269e+170, 5.49811678e-143,\n",
              "        1.09600041e+296, 6.12033286e+257, 7.03044823e-143]])"
            ]
          },
          "metadata": {},
          "execution_count": 115
        }
      ]
    },
    {
      "cell_type": "code",
      "source": [
        "np.eye(5) # The eye tool returns a 2-D array with 1's as the diagonal and 0's elsewhere."
      ],
      "metadata": {
        "colab": {
          "base_uri": "https://localhost:8080/"
        },
        "id": "zqNPOsRp-JGS",
        "outputId": "54b70437-9f5a-47a0-f709-1f95ed183302"
      },
      "execution_count": 80,
      "outputs": [
        {
          "output_type": "execute_result",
          "data": {
            "text/plain": [
              "array([[1., 0., 0., 0., 0.],\n",
              "       [0., 1., 0., 0., 0.],\n",
              "       [0., 0., 1., 0., 0.],\n",
              "       [0., 0., 0., 1., 0.],\n",
              "       [0., 0., 0., 0., 1.]])"
            ]
          },
          "metadata": {},
          "execution_count": 80
        }
      ]
    },
    {
      "cell_type": "code",
      "source": [
        "np.eye(5,5) # The eye tool returns a 2-D array with 1's as the diagonal and 0's elsewhere."
      ],
      "metadata": {
        "colab": {
          "base_uri": "https://localhost:8080/"
        },
        "id": "V9d6-AaemjAn",
        "outputId": "c8b02f55-4e6a-4f91-9e61-d29ab070e12a"
      },
      "execution_count": 27,
      "outputs": [
        {
          "output_type": "execute_result",
          "data": {
            "text/plain": [
              "array([[1., 0., 0., 0., 0.],\n",
              "       [0., 1., 0., 0., 0.],\n",
              "       [0., 0., 1., 0., 0.],\n",
              "       [0., 0., 0., 1., 0.],\n",
              "       [0., 0., 0., 0., 1.]])"
            ]
          },
          "metadata": {},
          "execution_count": 27
        }
      ]
    },
    {
      "cell_type": "code",
      "source": [
        "np.linspace([1,2,3,4],5,endpoint=False,axis=1)"
      ],
      "metadata": {
        "colab": {
          "base_uri": "https://localhost:8080/"
        },
        "id": "OS733vz1-DB-",
        "outputId": "c7f5ef92-e563-4f3d-e9be-dd5bc2384760"
      },
      "execution_count": 98,
      "outputs": [
        {
          "output_type": "execute_result",
          "data": {
            "text/plain": [
              "array([[1.  , 1.08, 1.16, 1.24, 1.32, 1.4 , 1.48, 1.56, 1.64, 1.72, 1.8 ,\n",
              "        1.88, 1.96, 2.04, 2.12, 2.2 , 2.28, 2.36, 2.44, 2.52, 2.6 , 2.68,\n",
              "        2.76, 2.84, 2.92, 3.  , 3.08, 3.16, 3.24, 3.32, 3.4 , 3.48, 3.56,\n",
              "        3.64, 3.72, 3.8 , 3.88, 3.96, 4.04, 4.12, 4.2 , 4.28, 4.36, 4.44,\n",
              "        4.52, 4.6 , 4.68, 4.76, 4.84, 4.92],\n",
              "       [2.  , 2.06, 2.12, 2.18, 2.24, 2.3 , 2.36, 2.42, 2.48, 2.54, 2.6 ,\n",
              "        2.66, 2.72, 2.78, 2.84, 2.9 , 2.96, 3.02, 3.08, 3.14, 3.2 , 3.26,\n",
              "        3.32, 3.38, 3.44, 3.5 , 3.56, 3.62, 3.68, 3.74, 3.8 , 3.86, 3.92,\n",
              "        3.98, 4.04, 4.1 , 4.16, 4.22, 4.28, 4.34, 4.4 , 4.46, 4.52, 4.58,\n",
              "        4.64, 4.7 , 4.76, 4.82, 4.88, 4.94],\n",
              "       [3.  , 3.04, 3.08, 3.12, 3.16, 3.2 , 3.24, 3.28, 3.32, 3.36, 3.4 ,\n",
              "        3.44, 3.48, 3.52, 3.56, 3.6 , 3.64, 3.68, 3.72, 3.76, 3.8 , 3.84,\n",
              "        3.88, 3.92, 3.96, 4.  , 4.04, 4.08, 4.12, 4.16, 4.2 , 4.24, 4.28,\n",
              "        4.32, 4.36, 4.4 , 4.44, 4.48, 4.52, 4.56, 4.6 , 4.64, 4.68, 4.72,\n",
              "        4.76, 4.8 , 4.84, 4.88, 4.92, 4.96],\n",
              "       [4.  , 4.02, 4.04, 4.06, 4.08, 4.1 , 4.12, 4.14, 4.16, 4.18, 4.2 ,\n",
              "        4.22, 4.24, 4.26, 4.28, 4.3 , 4.32, 4.34, 4.36, 4.38, 4.4 , 4.42,\n",
              "        4.44, 4.46, 4.48, 4.5 , 4.52, 4.54, 4.56, 4.58, 4.6 , 4.62, 4.64,\n",
              "        4.66, 4.68, 4.7 , 4.72, 4.74, 4.76, 4.78, 4.8 , 4.82, 4.84, 4.86,\n",
              "        4.88, 4.9 , 4.92, 4.94, 4.96, 4.98]])"
            ]
          },
          "metadata": {},
          "execution_count": 98
        }
      ]
    },
    {
      "cell_type": "code",
      "source": [
        "np.linspace(2,[5,6,7],axis=0)"
      ],
      "metadata": {
        "colab": {
          "base_uri": "https://localhost:8080/"
        },
        "id": "a9K0LWUuOyEe",
        "outputId": "473cb0c3-3e5d-4999-9909-274c24a24416"
      },
      "execution_count": 109,
      "outputs": [
        {
          "output_type": "execute_result",
          "data": {
            "text/plain": [
              "array([[2.        , 2.        , 2.        ],\n",
              "       [2.06122449, 2.08163265, 2.10204082],\n",
              "       [2.12244898, 2.16326531, 2.20408163],\n",
              "       [2.18367347, 2.24489796, 2.30612245],\n",
              "       [2.24489796, 2.32653061, 2.40816327],\n",
              "       [2.30612245, 2.40816327, 2.51020408],\n",
              "       [2.36734694, 2.48979592, 2.6122449 ],\n",
              "       [2.42857143, 2.57142857, 2.71428571],\n",
              "       [2.48979592, 2.65306122, 2.81632653],\n",
              "       [2.55102041, 2.73469388, 2.91836735],\n",
              "       [2.6122449 , 2.81632653, 3.02040816],\n",
              "       [2.67346939, 2.89795918, 3.12244898],\n",
              "       [2.73469388, 2.97959184, 3.2244898 ],\n",
              "       [2.79591837, 3.06122449, 3.32653061],\n",
              "       [2.85714286, 3.14285714, 3.42857143],\n",
              "       [2.91836735, 3.2244898 , 3.53061224],\n",
              "       [2.97959184, 3.30612245, 3.63265306],\n",
              "       [3.04081633, 3.3877551 , 3.73469388],\n",
              "       [3.10204082, 3.46938776, 3.83673469],\n",
              "       [3.16326531, 3.55102041, 3.93877551],\n",
              "       [3.2244898 , 3.63265306, 4.04081633],\n",
              "       [3.28571429, 3.71428571, 4.14285714],\n",
              "       [3.34693878, 3.79591837, 4.24489796],\n",
              "       [3.40816327, 3.87755102, 4.34693878],\n",
              "       [3.46938776, 3.95918367, 4.44897959],\n",
              "       [3.53061224, 4.04081633, 4.55102041],\n",
              "       [3.59183673, 4.12244898, 4.65306122],\n",
              "       [3.65306122, 4.20408163, 4.75510204],\n",
              "       [3.71428571, 4.28571429, 4.85714286],\n",
              "       [3.7755102 , 4.36734694, 4.95918367],\n",
              "       [3.83673469, 4.44897959, 5.06122449],\n",
              "       [3.89795918, 4.53061224, 5.16326531],\n",
              "       [3.95918367, 4.6122449 , 5.26530612],\n",
              "       [4.02040816, 4.69387755, 5.36734694],\n",
              "       [4.08163265, 4.7755102 , 5.46938776],\n",
              "       [4.14285714, 4.85714286, 5.57142857],\n",
              "       [4.20408163, 4.93877551, 5.67346939],\n",
              "       [4.26530612, 5.02040816, 5.7755102 ],\n",
              "       [4.32653061, 5.10204082, 5.87755102],\n",
              "       [4.3877551 , 5.18367347, 5.97959184],\n",
              "       [4.44897959, 5.26530612, 6.08163265],\n",
              "       [4.51020408, 5.34693878, 6.18367347],\n",
              "       [4.57142857, 5.42857143, 6.28571429],\n",
              "       [4.63265306, 5.51020408, 6.3877551 ],\n",
              "       [4.69387755, 5.59183673, 6.48979592],\n",
              "       [4.75510204, 5.67346939, 6.59183673],\n",
              "       [4.81632653, 5.75510204, 6.69387755],\n",
              "       [4.87755102, 5.83673469, 6.79591837],\n",
              "       [4.93877551, 5.91836735, 6.89795918],\n",
              "       [5.        , 6.        , 7.        ]])"
            ]
          },
          "metadata": {},
          "execution_count": 109
        }
      ]
    },
    {
      "cell_type": "code",
      "source": [
        "np.logspace(3,5,axis=0)"
      ],
      "metadata": {
        "colab": {
          "base_uri": "https://localhost:8080/"
        },
        "id": "HaoMy2C3PWTM",
        "outputId": "ac15a9d3-bdfa-4c55-b538-b5bbc41152ed"
      },
      "execution_count": 112,
      "outputs": [
        {
          "output_type": "execute_result",
          "data": {
            "text/plain": [
              "array([  1000.        ,   1098.54114199,   1206.79264064,   1325.71136559,\n",
              "         1456.3484775 ,   1599.85871961,   1757.51062485,   1930.69772888,\n",
              "         2120.95088792,   2329.95181052,   2559.5479227 ,   2811.76869797,\n",
              "         3088.84359648,   3393.2217719 ,   3727.59372031,   4094.91506238,\n",
              "         4498.43266897,   4941.71336132,   5428.67543932,   5963.62331659,\n",
              "         6551.2855686 ,   7196.85673001,   7906.04321091,   8685.11373751,\n",
              "         9540.9547635 ,  10481.13134155,  11513.95399326,  12648.55216855,\n",
              "        13894.95494373,  15264.17967175,  16768.32936811,  18420.69969327,\n",
              "        20235.89647725,  22229.96482526,  24420.53094549,  26826.9579528 ,\n",
              "        29470.51702552,  32374.57542818,  35564.80306223,  39069.39937055,\n",
              "        42919.34260129,  47148.66363457,  51794.74679231,  56898.66029018,\n",
              "        62505.51925274,  68664.88450043,  75431.20063355,  82864.27728547,\n",
              "        91029.81779915, 100000.        ])"
            ]
          },
          "metadata": {},
          "execution_count": 112
        }
      ]
    },
    {
      "cell_type": "code",
      "source": [
        "d= np.linspace(4,5,9)\n",
        "d"
      ],
      "metadata": {
        "colab": {
          "base_uri": "https://localhost:8080/"
        },
        "id": "pqkSbLpPRdE0",
        "outputId": "876304ed-6cce-4d91-d9e7-52ea93cfc217"
      },
      "execution_count": 116,
      "outputs": [
        {
          "output_type": "execute_result",
          "data": {
            "text/plain": [
              "array([4.   , 4.125, 4.25 , 4.375, 4.5  , 4.625, 4.75 , 4.875, 5.   ])"
            ]
          },
          "metadata": {},
          "execution_count": 116
        }
      ]
    },
    {
      "cell_type": "code",
      "source": [
        "d.ndim"
      ],
      "metadata": {
        "colab": {
          "base_uri": "https://localhost:8080/"
        },
        "id": "cNJZKNeaRdYX",
        "outputId": "0f92bba7-c2e9-45c1-992c-a09f5f33aeb8"
      },
      "execution_count": 117,
      "outputs": [
        {
          "output_type": "execute_result",
          "data": {
            "text/plain": [
              "1"
            ]
          },
          "metadata": {},
          "execution_count": 117
        }
      ]
    },
    {
      "cell_type": "code",
      "source": [
        "d.shape"
      ],
      "metadata": {
        "colab": {
          "base_uri": "https://localhost:8080/"
        },
        "id": "W9CNRJL4Rdpu",
        "outputId": "29e43b58-2d7a-4b86-e330-77d91166a515"
      },
      "execution_count": 119,
      "outputs": [
        {
          "output_type": "execute_result",
          "data": {
            "text/plain": [
              "(9,)"
            ]
          },
          "metadata": {},
          "execution_count": 119
        }
      ]
    },
    {
      "cell_type": "code",
      "source": [
        "d.reshape(9,1) # reshaped into 2d array"
      ],
      "metadata": {
        "colab": {
          "base_uri": "https://localhost:8080/"
        },
        "id": "FvgcBt13Rd1P",
        "outputId": "566b8c50-b823-4aa1-cd70-cff40c29dfa3"
      },
      "execution_count": 141,
      "outputs": [
        {
          "output_type": "execute_result",
          "data": {
            "text/plain": [
              "array([[4.   ],\n",
              "       [4.125],\n",
              "       [4.25 ],\n",
              "       [4.375],\n",
              "       [4.5  ],\n",
              "       [4.625],\n",
              "       [4.75 ],\n",
              "       [4.875],\n",
              "       [5.   ]])"
            ]
          },
          "metadata": {},
          "execution_count": 141
        }
      ]
    },
    {
      "cell_type": "code",
      "source": [
        "d.reshape(1,3,3) # reshaped into 3 d array with 1 layer of 3 rows 3 cols"
      ],
      "metadata": {
        "colab": {
          "base_uri": "https://localhost:8080/"
        },
        "id": "Gc5IWkknScYT",
        "outputId": "56c059b6-c6aa-440d-ca94-4aa981a5f29a"
      },
      "execution_count": 148,
      "outputs": [
        {
          "output_type": "execute_result",
          "data": {
            "text/plain": [
              "array([[[4.   , 4.125, 4.25 ],\n",
              "        [4.375, 4.5  , 4.625],\n",
              "        [4.75 , 4.875, 5.   ]]])"
            ]
          },
          "metadata": {},
          "execution_count": 148
        }
      ]
    },
    {
      "cell_type": "code",
      "source": [
        "d.reshape(9) # reshaped into 1 d array"
      ],
      "metadata": {
        "colab": {
          "base_uri": "https://localhost:8080/"
        },
        "id": "pnn4N_leScsk",
        "outputId": "6a2947ee-3f4f-40c9-e899-633ed8125577"
      },
      "execution_count": 139,
      "outputs": [
        {
          "output_type": "execute_result",
          "data": {
            "text/plain": [
              "array([4.   , 4.125, 4.25 , 4.375, 4.5  , 4.625, 4.75 , 4.875, 5.   ])"
            ]
          },
          "metadata": {},
          "execution_count": 139
        }
      ]
    },
    {
      "cell_type": "code",
      "source": [
        "np.logspace(1,2,5) # np.logspace(start, stop, number of values needed)"
      ],
      "metadata": {
        "colab": {
          "base_uri": "https://localhost:8080/"
        },
        "id": "vsWR4hnbSdZ8",
        "outputId": "d56de6af-db32-48d5-999d-fb75b31f88a0"
      },
      "execution_count": 147,
      "outputs": [
        {
          "output_type": "execute_result",
          "data": {
            "text/plain": [
              "array([ 10.        ,  17.7827941 ,  31.6227766 ,  56.23413252,\n",
              "       100.        ])"
            ]
          },
          "metadata": {},
          "execution_count": 147
        }
      ]
    },
    {
      "cell_type": "code",
      "source": [
        "np.random.rand(5)"
      ],
      "metadata": {
        "colab": {
          "base_uri": "https://localhost:8080/"
        },
        "id": "OwLKs0A4kRzX",
        "outputId": "c7510b44-ebda-404f-e28e-601fe25b27fe"
      },
      "execution_count": 5,
      "outputs": [
        {
          "output_type": "execute_result",
          "data": {
            "text/plain": [
              "array([0.10865051, 0.66228124, 0.54099558, 0.10903099, 0.48132367])"
            ]
          },
          "metadata": {},
          "execution_count": 5
        }
      ]
    },
    {
      "cell_type": "code",
      "source": [
        "np.random.randn(5)"
      ],
      "metadata": {
        "colab": {
          "base_uri": "https://localhost:8080/"
        },
        "id": "j5Rvg1tXkYQc",
        "outputId": "531efcc0-375a-44e9-a390-b6c40232f508"
      },
      "execution_count": 6,
      "outputs": [
        {
          "output_type": "execute_result",
          "data": {
            "text/plain": [
              "array([-0.38818864, -0.84794385, -1.68105662,  1.69652888, -0.2983415 ])"
            ]
          },
          "metadata": {},
          "execution_count": 6
        }
      ]
    },
    {
      "cell_type": "code",
      "source": [
        "np.random.randn(1,4,3) # np.random.randn(layers,rows,cols)"
      ],
      "metadata": {
        "colab": {
          "base_uri": "https://localhost:8080/"
        },
        "id": "PM8pa7GPSbtB",
        "outputId": "25b66152-bdae-49e8-8b59-8c5d9f230a3f"
      },
      "execution_count": 160,
      "outputs": [
        {
          "output_type": "execute_result",
          "data": {
            "text/plain": [
              "array([[[-0.98103651, -0.22248211, -0.78670479],\n",
              "        [ 0.70672999, -0.65628486, -0.67059936],\n",
              "        [-1.81323802, -2.15595309,  0.64993986],\n",
              "        [-0.80736341, -0.09683859,  0.30669931]]])"
            ]
          },
          "metadata": {},
          "execution_count": 160
        }
      ]
    },
    {
      "cell_type": "code",
      "source": [
        "np.random.randint(5,10, (4,4))"
      ],
      "metadata": {
        "colab": {
          "base_uri": "https://localhost:8080/"
        },
        "id": "NIz3Hrk2kecS",
        "outputId": "10c98e90-a40f-45b2-f024-c73a9acd3b3e"
      },
      "execution_count": 14,
      "outputs": [
        {
          "output_type": "execute_result",
          "data": {
            "text/plain": [
              "array([[5, 6, 9, 7],\n",
              "       [9, 8, 8, 5],\n",
              "       [9, 7, 6, 7],\n",
              "       [5, 6, 5, 7]])"
            ]
          },
          "metadata": {},
          "execution_count": 14
        }
      ]
    },
    {
      "cell_type": "code",
      "source": [
        "np.random.randn(2,2,4)"
      ],
      "metadata": {
        "colab": {
          "base_uri": "https://localhost:8080/"
        },
        "id": "u5hPy2H4fpTo",
        "outputId": "2bc6770f-c2ec-4d07-b974-d4aa5ca02efc"
      },
      "execution_count": 163,
      "outputs": [
        {
          "output_type": "execute_result",
          "data": {
            "text/plain": [
              "array([[[-0.50226477, -1.17223343, -0.66719074,  0.50980143],\n",
              "        [-1.28867874,  1.14117913,  0.25963431, -0.17558434]],\n",
              "\n",
              "       [[-0.13950291, -0.29983754,  1.05258994,  1.46891686],\n",
              "        [-1.66723583, -0.03960145, -0.54365929,  0.84536454]]])"
            ]
          },
          "metadata": {},
          "execution_count": 163
        }
      ]
    },
    {
      "cell_type": "code",
      "source": [
        "arr = np.random.randint(3,9,(3,3))\n",
        "arr"
      ],
      "metadata": {
        "colab": {
          "base_uri": "https://localhost:8080/"
        },
        "id": "e3HKe8ryUeSm",
        "outputId": "0ad013d8-4d0b-4cf3-f34f-21a5d56db700"
      },
      "execution_count": 165,
      "outputs": [
        {
          "output_type": "execute_result",
          "data": {
            "text/plain": [
              "array([[3, 6, 7],\n",
              "       [6, 4, 6],\n",
              "       [3, 5, 5]])"
            ]
          },
          "metadata": {},
          "execution_count": 165
        }
      ]
    },
    {
      "cell_type": "code",
      "source": [
        "arr.reshape(1,9)"
      ],
      "metadata": {
        "colab": {
          "base_uri": "https://localhost:8080/"
        },
        "id": "r9CjrC5OUfAT",
        "outputId": "2acee278-f8af-4b04-b4da-e1e3150d50e2"
      },
      "execution_count": 174,
      "outputs": [
        {
          "output_type": "execute_result",
          "data": {
            "text/plain": [
              "array([[3, 6, 7, 6, 4, 6, 3, 5, 5]])"
            ]
          },
          "metadata": {},
          "execution_count": 174
        }
      ]
    },
    {
      "cell_type": "code",
      "source": [
        "arr.reshape(9,1)"
      ],
      "metadata": {
        "colab": {
          "base_uri": "https://localhost:8080/"
        },
        "id": "43lNvu09UfTu",
        "outputId": "0488999c-a0a0-4cd7-ac34-638131323ccd"
      },
      "execution_count": 175,
      "outputs": [
        {
          "output_type": "execute_result",
          "data": {
            "text/plain": [
              "array([[3],\n",
              "       [6],\n",
              "       [7],\n",
              "       [6],\n",
              "       [4],\n",
              "       [6],\n",
              "       [3],\n",
              "       [5],\n",
              "       [5]])"
            ]
          },
          "metadata": {},
          "execution_count": 175
        }
      ]
    },
    {
      "cell_type": "code",
      "source": [
        "arr.reshape(1,1,9)"
      ],
      "metadata": {
        "colab": {
          "base_uri": "https://localhost:8080/"
        },
        "id": "CiBi7ZTvg_ah",
        "outputId": "b12e2f7a-69c6-4a8b-86f7-3f12c4466bc5"
      },
      "execution_count": 176,
      "outputs": [
        {
          "output_type": "execute_result",
          "data": {
            "text/plain": [
              "array([[[3, 6, 7, 6, 4, 6, 3, 5, 5]]])"
            ]
          },
          "metadata": {},
          "execution_count": 176
        }
      ]
    },
    {
      "cell_type": "code",
      "source": [
        "arr.reshape(3,3,1)"
      ],
      "metadata": {
        "colab": {
          "base_uri": "https://localhost:8080/"
        },
        "id": "jplyG9cqg_1N",
        "outputId": "0d6ad146-fc8a-45a4-aefa-13c9298e4b25"
      },
      "execution_count": 177,
      "outputs": [
        {
          "output_type": "execute_result",
          "data": {
            "text/plain": [
              "array([[[3],\n",
              "        [6],\n",
              "        [7]],\n",
              "\n",
              "       [[6],\n",
              "        [4],\n",
              "        [6]],\n",
              "\n",
              "       [[3],\n",
              "        [5],\n",
              "        [5]]])"
            ]
          },
          "metadata": {},
          "execution_count": 177
        }
      ]
    },
    {
      "cell_type": "code",
      "source": [
        "arr.reshape(3,-1) \n",
        "# other than -1 we can also give any negative value, reshape is smart enough to define cols automatically if we put negative values"
      ],
      "metadata": {
        "colab": {
          "base_uri": "https://localhost:8080/"
        },
        "id": "GMC9u_oThAFx",
        "outputId": "727aaaee-4bcc-4969-f028-8b21b2664800"
      },
      "execution_count": 178,
      "outputs": [
        {
          "output_type": "execute_result",
          "data": {
            "text/plain": [
              "array([[3, 6, 7],\n",
              "       [6, 4, 6],\n",
              "       [3, 5, 5]])"
            ]
          },
          "metadata": {},
          "execution_count": 178
        }
      ]
    },
    {
      "cell_type": "code",
      "source": [
        "arr.reshape(1,-1)"
      ],
      "metadata": {
        "colab": {
          "base_uri": "https://localhost:8080/"
        },
        "id": "NoiW4zlehAXG",
        "outputId": "f5390c2c-4087-4a42-a919-21306754ac65"
      },
      "execution_count": 179,
      "outputs": [
        {
          "output_type": "execute_result",
          "data": {
            "text/plain": [
              "array([[3, 6, 7, 6, 4, 6, 3, 5, 5]])"
            ]
          },
          "metadata": {},
          "execution_count": 179
        }
      ]
    },
    {
      "cell_type": "code",
      "source": [
        "arr"
      ],
      "metadata": {
        "colab": {
          "base_uri": "https://localhost:8080/"
        },
        "id": "xtxcgoTLhAmv",
        "outputId": "cb06cc25-6f32-4b88-cf63-5068a042ae78"
      },
      "execution_count": 180,
      "outputs": [
        {
          "output_type": "execute_result",
          "data": {
            "text/plain": [
              "array([[3, 6, 7],\n",
              "       [6, 4, 6],\n",
              "       [3, 5, 5]])"
            ]
          },
          "metadata": {},
          "execution_count": 180
        }
      ]
    },
    {
      "cell_type": "code",
      "source": [
        "arr.max()"
      ],
      "metadata": {
        "colab": {
          "base_uri": "https://localhost:8080/"
        },
        "id": "nBazt9jMhA1T",
        "outputId": "a29ddc2d-4262-48e4-f5c1-5686f554d070"
      },
      "execution_count": 181,
      "outputs": [
        {
          "output_type": "execute_result",
          "data": {
            "text/plain": [
              "7"
            ]
          },
          "metadata": {},
          "execution_count": 181
        }
      ]
    },
    {
      "cell_type": "code",
      "source": [
        "arr.min()"
      ],
      "metadata": {
        "colab": {
          "base_uri": "https://localhost:8080/"
        },
        "id": "nuq1Q5VDi7IH",
        "outputId": "1b46c7bd-8ede-4566-e94f-98a25bf034e6"
      },
      "execution_count": 182,
      "outputs": [
        {
          "output_type": "execute_result",
          "data": {
            "text/plain": [
              "3"
            ]
          },
          "metadata": {},
          "execution_count": 182
        }
      ]
    },
    {
      "cell_type": "code",
      "source": [
        "arr.mean()"
      ],
      "metadata": {
        "colab": {
          "base_uri": "https://localhost:8080/"
        },
        "id": "Pn8KaTFEi7bY",
        "outputId": "ec448247-1bc5-4100-a9e4-136a2ac0fc68"
      },
      "execution_count": 183,
      "outputs": [
        {
          "output_type": "execute_result",
          "data": {
            "text/plain": [
              "5.0"
            ]
          },
          "metadata": {},
          "execution_count": 183
        }
      ]
    },
    {
      "cell_type": "code",
      "source": [
        "arr = np.random.randint(4,100,(5,5))\n",
        "arr"
      ],
      "metadata": {
        "colab": {
          "base_uri": "https://localhost:8080/"
        },
        "id": "Tq37XoUbi7se",
        "outputId": "0bf37b6f-949e-4eba-fb60-839200133079"
      },
      "execution_count": 7,
      "outputs": [
        {
          "output_type": "execute_result",
          "data": {
            "text/plain": [
              "array([[78, 91, 87, 78, 84],\n",
              "       [22,  7, 53,  4, 94],\n",
              "       [99, 49, 59, 91, 44],\n",
              "       [86, 71, 97, 43, 73],\n",
              "       [28, 87, 57, 27, 49]])"
            ]
          },
          "metadata": {},
          "execution_count": 7
        }
      ]
    },
    {
      "cell_type": "code",
      "source": [
        "arr[3:,3:]"
      ],
      "metadata": {
        "colab": {
          "base_uri": "https://localhost:8080/"
        },
        "id": "ycV9lLiPi77O",
        "outputId": "3f4e3df7-5a13-4ff9-9abb-1381838d4f06"
      },
      "execution_count": 192,
      "outputs": [
        {
          "output_type": "execute_result",
          "data": {
            "text/plain": [
              "array([[71, 62],\n",
              "       [13, 74]])"
            ]
          },
          "metadata": {},
          "execution_count": 192
        }
      ]
    },
    {
      "cell_type": "code",
      "source": [
        "arr[:,[1,3]] # gives all rows and 1,3 columns"
      ],
      "metadata": {
        "colab": {
          "base_uri": "https://localhost:8080/"
        },
        "id": "tpLgPvQWi8LP",
        "outputId": "50702d95-341e-4fcf-9ef8-4e2eea9330fb"
      },
      "execution_count": 10,
      "outputs": [
        {
          "output_type": "execute_result",
          "data": {
            "text/plain": [
              "array([[91, 78],\n",
              "       [ 7,  4],\n",
              "       [49, 91],\n",
              "       [71, 43],\n",
              "       [87, 27]])"
            ]
          },
          "metadata": {},
          "execution_count": 10
        }
      ]
    },
    {
      "cell_type": "code",
      "source": [
        "arr[arr>10] # gives all the elements which are greater than 10"
      ],
      "metadata": {
        "colab": {
          "base_uri": "https://localhost:8080/"
        },
        "id": "-E1d2jOni8aV",
        "outputId": "ba87b6ce-35f7-4af6-8784-50bbc1dc3aed"
      },
      "execution_count": 11,
      "outputs": [
        {
          "output_type": "execute_result",
          "data": {
            "text/plain": [
              "array([78, 91, 87, 78, 84, 22, 53, 94, 99, 49, 59, 91, 44, 86, 71, 97, 43,\n",
              "       73, 28, 87, 57, 27, 49])"
            ]
          },
          "metadata": {},
          "execution_count": 11
        }
      ]
    },
    {
      "cell_type": "code",
      "source": [
        "arr>10"
      ],
      "metadata": {
        "colab": {
          "base_uri": "https://localhost:8080/"
        },
        "id": "bcYmauN6i8qX",
        "outputId": "c814af80-d5ab-47b9-ce7d-d82035ec7bbb"
      },
      "execution_count": 12,
      "outputs": [
        {
          "output_type": "execute_result",
          "data": {
            "text/plain": [
              "array([[ True,  True,  True,  True,  True],\n",
              "       [ True, False,  True, False,  True],\n",
              "       [ True,  True,  True,  True,  True],\n",
              "       [ True,  True,  True,  True,  True],\n",
              "       [ True,  True,  True,  True,  True]])"
            ]
          },
          "metadata": {},
          "execution_count": 12
        }
      ]
    },
    {
      "cell_type": "code",
      "source": [
        "arr * arr # here we are only multiplying elements of each row and each columns with another array of same, This is not matrix multiplication"
      ],
      "metadata": {
        "colab": {
          "base_uri": "https://localhost:8080/"
        },
        "id": "vrCFVuZRi85P",
        "outputId": "f0c91c76-905c-444d-ff02-853a36b56c33"
      },
      "execution_count": 13,
      "outputs": [
        {
          "output_type": "execute_result",
          "data": {
            "text/plain": [
              "array([[6084, 8281, 7569, 6084, 7056],\n",
              "       [ 484,   49, 2809,   16, 8836],\n",
              "       [9801, 2401, 3481, 8281, 1936],\n",
              "       [7396, 5041, 9409, 1849, 5329],\n",
              "       [ 784, 7569, 3249,  729, 2401]])"
            ]
          },
          "metadata": {},
          "execution_count": 13
        }
      ]
    },
    {
      "cell_type": "code",
      "source": [
        "arr@arr # This is Matrix Multiplication"
      ],
      "metadata": {
        "colab": {
          "base_uri": "https://localhost:8080/"
        },
        "id": "GSBopuvBi9H1",
        "outputId": "3987d971-8513-4a00-e4f7-ecb6a31e36c7"
      },
      "execution_count": 14,
      "outputs": [
        {
          "output_type": "execute_result",
          "data": {
            "text/plain": [
              "array([[25759, 24844, 29096, 19987, 28744],\n",
              "       [10093, 13110, 11158,  9277,  9736],\n",
              "       [23699, 22532, 26026, 18388, 24317],\n",
              "       [23615, 22480, 25300, 19639, 24882],\n",
              "       [13435, 12130, 15822, 10203, 17410]])"
            ]
          },
          "metadata": {},
          "execution_count": 14
        }
      ]
    },
    {
      "cell_type": "code",
      "source": [
        "arr1 = np.random.randint(2,4,(3,3))\n",
        "arr2 = np.random.randint(2,4,(3,3))"
      ],
      "metadata": {
        "id": "xe-QGH60DA_j"
      },
      "execution_count": 15,
      "outputs": []
    },
    {
      "cell_type": "code",
      "source": [
        "arr1"
      ],
      "metadata": {
        "colab": {
          "base_uri": "https://localhost:8080/"
        },
        "id": "gw0qT8CNDCB3",
        "outputId": "e3a57b5d-536d-44f0-831c-993c5cfada1e"
      },
      "execution_count": 16,
      "outputs": [
        {
          "output_type": "execute_result",
          "data": {
            "text/plain": [
              "array([[2, 3, 3],\n",
              "       [2, 2, 3],\n",
              "       [2, 2, 3]])"
            ]
          },
          "metadata": {},
          "execution_count": 16
        }
      ]
    },
    {
      "cell_type": "code",
      "source": [
        "arr2"
      ],
      "metadata": {
        "colab": {
          "base_uri": "https://localhost:8080/"
        },
        "id": "Z0HVrZqTDCS1",
        "outputId": "08e61f82-201c-4299-a3c5-5018a85a8f8c"
      },
      "execution_count": 17,
      "outputs": [
        {
          "output_type": "execute_result",
          "data": {
            "text/plain": [
              "array([[2, 3, 3],\n",
              "       [2, 3, 3],\n",
              "       [2, 3, 2]])"
            ]
          },
          "metadata": {},
          "execution_count": 17
        }
      ]
    },
    {
      "cell_type": "code",
      "source": [
        "arr1 * arr2"
      ],
      "metadata": {
        "colab": {
          "base_uri": "https://localhost:8080/"
        },
        "id": "GxAumT5_DCin",
        "outputId": "2f29a50e-5e79-48b8-c163-4dafa64d9a6f"
      },
      "execution_count": 18,
      "outputs": [
        {
          "output_type": "execute_result",
          "data": {
            "text/plain": [
              "array([[4, 9, 9],\n",
              "       [4, 6, 9],\n",
              "       [4, 6, 6]])"
            ]
          },
          "metadata": {},
          "execution_count": 18
        }
      ]
    },
    {
      "cell_type": "code",
      "source": [
        "arr1@arr2"
      ],
      "metadata": {
        "colab": {
          "base_uri": "https://localhost:8080/"
        },
        "id": "QiMB9vsYDCwp",
        "outputId": "6c762150-7ce5-4836-f8f6-f98d846b4b3d"
      },
      "execution_count": 19,
      "outputs": [
        {
          "output_type": "execute_result",
          "data": {
            "text/plain": [
              "array([[16, 24, 21],\n",
              "       [14, 21, 18],\n",
              "       [14, 21, 18]])"
            ]
          },
          "metadata": {},
          "execution_count": 19
        }
      ]
    },
    {
      "cell_type": "code",
      "source": [
        "arr/0 # inf means infinity value"
      ],
      "metadata": {
        "colab": {
          "base_uri": "https://localhost:8080/"
        },
        "id": "YJHppazZDUdu",
        "outputId": "9055687f-ebf3-41f4-80fd-51db8fcf6feb"
      },
      "execution_count": 20,
      "outputs": [
        {
          "output_type": "stream",
          "name": "stderr",
          "text": [
            "/usr/local/lib/python3.7/dist-packages/ipykernel_launcher.py:1: RuntimeWarning: divide by zero encountered in true_divide\n",
            "  \"\"\"Entry point for launching an IPython kernel.\n"
          ]
        },
        {
          "output_type": "execute_result",
          "data": {
            "text/plain": [
              "array([[inf, inf, inf, inf, inf],\n",
              "       [inf, inf, inf, inf, inf],\n",
              "       [inf, inf, inf, inf, inf],\n",
              "       [inf, inf, inf, inf, inf],\n",
              "       [inf, inf, inf, inf, inf]])"
            ]
          },
          "metadata": {},
          "execution_count": 20
        }
      ]
    },
    {
      "cell_type": "code",
      "source": [
        "arr**2"
      ],
      "metadata": {
        "colab": {
          "base_uri": "https://localhost:8080/"
        },
        "id": "nwNmbGkCDb_j",
        "outputId": "f74a9320-0fa7-4a9d-dd83-5de64474065e"
      },
      "execution_count": 21,
      "outputs": [
        {
          "output_type": "execute_result",
          "data": {
            "text/plain": [
              "array([[6084, 8281, 7569, 6084, 7056],\n",
              "       [ 484,   49, 2809,   16, 8836],\n",
              "       [9801, 2401, 3481, 8281, 1936],\n",
              "       [7396, 5041, 9409, 1849, 5329],\n",
              "       [ 784, 7569, 3249,  729, 2401]])"
            ]
          },
          "metadata": {},
          "execution_count": 21
        }
      ]
    },
    {
      "cell_type": "code",
      "source": [
        "arr1 + 2"
      ],
      "metadata": {
        "colab": {
          "base_uri": "https://localhost:8080/"
        },
        "id": "NJNsBLrEDcPy",
        "outputId": "832e66f0-914d-44ed-98b8-c639ae3f439e"
      },
      "execution_count": 22,
      "outputs": [
        {
          "output_type": "execute_result",
          "data": {
            "text/plain": [
              "array([[4, 5, 5],\n",
              "       [4, 4, 5],\n",
              "       [4, 4, 5]])"
            ]
          },
          "metadata": {},
          "execution_count": 22
        }
      ]
    },
    {
      "cell_type": "code",
      "source": [
        "arr1.reshape(9,1) + arr2.reshape(9,1)"
      ],
      "metadata": {
        "colab": {
          "base_uri": "https://localhost:8080/"
        },
        "id": "STI1p07UDcd6",
        "outputId": "10a0e925-05a9-459a-889a-2eaee4f74d5c"
      },
      "execution_count": 27,
      "outputs": [
        {
          "output_type": "execute_result",
          "data": {
            "text/plain": [
              "array([[4],\n",
              "       [6],\n",
              "       [6],\n",
              "       [4],\n",
              "       [5],\n",
              "       [6],\n",
              "       [4],\n",
              "       [5],\n",
              "       [5]])"
            ]
          },
          "metadata": {},
          "execution_count": 27
        }
      ]
    },
    {
      "cell_type": "code",
      "source": [
        "arr1"
      ],
      "metadata": {
        "colab": {
          "base_uri": "https://localhost:8080/"
        },
        "id": "Txb2DZoREDkp",
        "outputId": "8df8d869-15cb-4efd-8de0-63d5892e3c43"
      },
      "execution_count": 29,
      "outputs": [
        {
          "output_type": "execute_result",
          "data": {
            "text/plain": [
              "array([[2, 3, 3],\n",
              "       [2, 2, 3],\n",
              "       [2, 2, 3]])"
            ]
          },
          "metadata": {},
          "execution_count": 29
        }
      ]
    },
    {
      "cell_type": "code",
      "source": [
        "arr1.T # applying Transpose"
      ],
      "metadata": {
        "colab": {
          "base_uri": "https://localhost:8080/"
        },
        "id": "t2kiRxfsD43N",
        "outputId": "32bc552c-5be8-4609-dc39-b798712f4246"
      },
      "execution_count": 28,
      "outputs": [
        {
          "output_type": "execute_result",
          "data": {
            "text/plain": [
              "array([[2, 2, 2],\n",
              "       [3, 2, 2],\n",
              "       [3, 3, 3]])"
            ]
          },
          "metadata": {},
          "execution_count": 28
        }
      ]
    },
    {
      "cell_type": "code",
      "source": [
        "np.sqrt(arr1) #square root"
      ],
      "metadata": {
        "colab": {
          "base_uri": "https://localhost:8080/"
        },
        "id": "_IgGXhriDcqh",
        "outputId": "b2c93443-2908-49a8-e399-e4bfb8c0cfcd"
      },
      "execution_count": 30,
      "outputs": [
        {
          "output_type": "execute_result",
          "data": {
            "text/plain": [
              "array([[1.41421356, 1.73205081, 1.73205081],\n",
              "       [1.41421356, 1.41421356, 1.73205081],\n",
              "       [1.41421356, 1.41421356, 1.73205081]])"
            ]
          },
          "metadata": {},
          "execution_count": 30
        }
      ]
    },
    {
      "cell_type": "code",
      "source": [
        "np.exp(arr1) #exponential"
      ],
      "metadata": {
        "colab": {
          "base_uri": "https://localhost:8080/"
        },
        "id": "dHb-c5kdENfV",
        "outputId": "32ead344-7563-4595-ef5b-09da904f804c"
      },
      "execution_count": 31,
      "outputs": [
        {
          "output_type": "execute_result",
          "data": {
            "text/plain": [
              "array([[ 7.3890561 , 20.08553692, 20.08553692],\n",
              "       [ 7.3890561 ,  7.3890561 , 20.08553692],\n",
              "       [ 7.3890561 ,  7.3890561 , 20.08553692]])"
            ]
          },
          "metadata": {},
          "execution_count": 31
        }
      ]
    },
    {
      "cell_type": "code",
      "source": [
        "np.log10(arr) #log with base 10"
      ],
      "metadata": {
        "colab": {
          "base_uri": "https://localhost:8080/"
        },
        "id": "iHWAdxpRENu4",
        "outputId": "eef8fac0-9f84-4731-ffac-f7bf937ea881"
      },
      "execution_count": 33,
      "outputs": [
        {
          "output_type": "execute_result",
          "data": {
            "text/plain": [
              "array([[1.8920946 , 1.95904139, 1.93951925, 1.8920946 , 1.92427929],\n",
              "       [1.34242268, 0.84509804, 1.72427587, 0.60205999, 1.97312785],\n",
              "       [1.99563519, 1.69019608, 1.77085201, 1.95904139, 1.64345268],\n",
              "       [1.93449845, 1.85125835, 1.98677173, 1.63346846, 1.86332286],\n",
              "       [1.44715803, 1.93951925, 1.75587486, 1.43136376, 1.69019608]])"
            ]
          },
          "metadata": {},
          "execution_count": 33
        }
      ]
    },
    {
      "cell_type": "code",
      "source": [
        "np.log2(arr)"
      ],
      "metadata": {
        "colab": {
          "base_uri": "https://localhost:8080/"
        },
        "id": "7u1nhCNlEOP-",
        "outputId": "91927527-eb61-4eee-ec19-a0ef1e488235"
      },
      "execution_count": 36,
      "outputs": [
        {
          "output_type": "execute_result",
          "data": {
            "text/plain": [
              "array([[6.28540222, 6.50779464, 6.4429435 , 6.28540222, 6.39231742],\n",
              "       [4.45943162, 2.80735492, 5.72792045, 2.        , 6.55458885],\n",
              "       [6.62935662, 5.61470984, 5.88264305, 6.50779464, 5.45943162],\n",
              "       [6.42626475, 6.14974712, 6.59991284, 5.42626475, 6.18982456],\n",
              "       [4.80735492, 6.4429435 , 5.83289001, 4.7548875 , 5.61470984]])"
            ]
          },
          "metadata": {},
          "execution_count": 36
        }
      ]
    },
    {
      "cell_type": "code",
      "source": [
        "np.random.seed(13) # by using seed we can provide same random values everytime we execute\n",
        "np.random.randn(2,3)"
      ],
      "metadata": {
        "colab": {
          "base_uri": "https://localhost:8080/"
        },
        "id": "Eq9gR-ZLEOdO",
        "outputId": "c6063ee7-00ad-4e94-be03-9defb0099abd"
      },
      "execution_count": 40,
      "outputs": [
        {
          "output_type": "execute_result",
          "data": {
            "text/plain": [
              "array([[-0.71239066,  0.75376638, -0.04450308],\n",
              "       [ 0.45181234,  1.34510171,  0.53233789]])"
            ]
          },
          "metadata": {},
          "execution_count": 40
        }
      ]
    },
    {
      "cell_type": "code",
      "source": [
        ""
      ],
      "metadata": {
        "id": "aiQybXGREOpq"
      },
      "execution_count": null,
      "outputs": []
    },
    {
      "cell_type": "code",
      "source": [
        ""
      ],
      "metadata": {
        "id": "Giib2uuLEO8q"
      },
      "execution_count": null,
      "outputs": []
    }
  ]
}